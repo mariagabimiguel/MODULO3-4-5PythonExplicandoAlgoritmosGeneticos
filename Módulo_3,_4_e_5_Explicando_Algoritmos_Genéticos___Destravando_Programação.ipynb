{
  "nbformat": 4,
  "nbformat_minor": 0,
  "metadata": {
    "colab": {
      "provenance": []
    },
    "kernelspec": {
      "name": "python3",
      "display_name": "Python 3"
    },
    "language_info": {
      "name": "python"
    }
  },
  "cells": [
    {
      "cell_type": "markdown",
      "source": [
        "#Módulo 3, 4 e 5 - Explicando Algoritmos Genéticos | Destravando Programação"
      ],
      "metadata": {
        "id": "IOCty63zzRs5"
      }
    },
    {
      "cell_type": "markdown",
      "source": [
        "# PROBLEMA A SER OTIMIZADO"
      ],
      "metadata": {
        "id": "nZw03ZDYhi84"
      }
    },
    {
      "cell_type": "markdown",
      "source": [
        "Vamos realizar um processo de busca pelo o valor máximo da seguinte função:"
      ],
      "metadata": {
        "id": "E7Y9kFzwlvZx"
      }
    },
    {
      "cell_type": "markdown",
      "source": [
        "\n",
        "\n",
        "![image.png](data:image/png;base64,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)"
      ],
      "metadata": {
        "id": "S80L9aHkjNxo"
      }
    },
    {
      "cell_type": "markdown",
      "source": [
        "**APLICAÇÃO DE FUNÇÃO:**\n",
        "\n",
        "Já temos aqui o uso de funções em python de forma a tornar a aplicação do problema mais fácil de ser gerenciada: \n",
        "vamos definir a função e chamá-la quando necessário durante nosso processo de busca.\n",
        "\n",
        "Note como essa estrutura nos permite aplicar e retornar dados através de seu parâmetro. Ao longo do código não precisaremos escrever a fórmula sempre que for necessário, vamos apenas chamar a função fx(x) definindo um valor a ser usado na variável x.\n"
      ],
      "metadata": {
        "id": "gcEYq6fOm27Y"
      }
    },
    {
      "cell_type": "code",
      "source": [
        "#Importação das Bibliotecas\n",
        "import matplotlib.pyplot as plt\n",
        "import numpy as np\n",
        "import math\n",
        "import random"
      ],
      "metadata": {
        "id": "VctfMU7AjXCN"
      },
      "execution_count": null,
      "outputs": []
    },
    {
      "cell_type": "code",
      "source": [
        "def fx(x):\n",
        "    return -(0.1+(1-x)**2-0.1*math.cos(6*math.pi*(1-x)))+2"
      ],
      "metadata": {
        "id": "vQOKY9S1hltE"
      },
      "execution_count": null,
      "outputs": []
    },
    {
      "cell_type": "code",
      "source": [
        "y_axis = []\n",
        "x_axis=np.arange(0,2,0.02)\n",
        "\n",
        "for num in x_axis:\n",
        "    y_axis.append(fx(num))\n",
        "\n",
        "plt.plot(x_axis,y_axis)"
      ],
      "metadata": {
        "colab": {
          "base_uri": "https://localhost:8080/"
        },
        "id": "DtXvTgy0jnoK",
        "outputId": "72d87456-c67f-4cee-cae8-026b9db1e132"
      },
      "execution_count": null,
      "outputs": [
        {
          "output_type": "execute_result",
          "data": {
            "text/plain": [
              "[<matplotlib.lines.Line2D at 0x7fab97779490>]"
            ]
          },
          "metadata": {},
          "execution_count": 121
        },
        {
          "output_type": "display_data",
          "data": {
            "text/plain": [
              "<Figure size 432x288 with 1 Axes>"
            ],
            "image/png": "[encoded data removed]"
          },
          "metadata": {
            "needs_background": "light"
          }
        }
      ]
    },
    {
      "cell_type": "markdown",
      "source": [
        "Podemos observar que o ponto mais alto está em torno do valor x = 1, que nos dá o maior valor possível para a função."
      ],
      "metadata": {
        "id": "NqCGllwmr3mi"
      }
    },
    {
      "cell_type": "markdown",
      "source": [
        "# POPULAÇÃO"
      ],
      "metadata": {
        "id": "KTKGvh0vhmVg"
      }
    },
    {
      "cell_type": "markdown",
      "source": [
        "Uma população é um conjunto de indivíduos que representam possíveis soluções para o problema. Vamos gerar essa população de forma aleatória codificando as características de cada individuo usando números decimais. "
      ],
      "metadata": {
        "id": "wWnQKwn9tnUC"
      }
    },
    {
      "cell_type": "markdown",
      "source": [
        "**APLICAÇÃO DO FOR:**\n",
        "\n",
        "Essa estrutura é muito útil nessa etapa, pois permite iterar sobre o valor definido para o número de individuos (um range) e aplicar uma operação do random para gerar um individuo aleatório com os valores que os genes podem assumir. Sobre esses valores dos genes também vamos iterar percorrendo as listas já definidas.\n",
        "\n",
        "**APLICAÇÃO DE LISTAS:**\n",
        "\n",
        "A estrutura de lista também é muito útil aqui para que possamos armazenar e manipular a população de forma simples. Neste caso, vamos criar uma lista aninhada para que o nosso indivíduo tenha apenas 0 ou 1 como parte inteira, assumindo assim somente valores de 0 a 1.99999 (pois sabemos que nosso valor está definido entre 0 e 2 pelo gráfico).\n",
        "\n",
        "**APLICAÇÃO DE FUNÇÃO:**\n",
        "\n",
        "Precisamos converter as listas em números decimais e para isso será muito útil a criação de uma função para chamá-la quando for usada a nossa população. O uso de números decimais nos fornecem uma representação mais precisa das soluções possíveis.\n"
      ],
      "metadata": {
        "id": "6Atmx76TzaBs"
      }
    },
    {
      "cell_type": "code",
      "source": [
        "populacao = []\n",
        "genes = [[0,1],[0,1,2,3,4,5,6,7,8,9]]\n",
        "tamanho_individuo = 15\n",
        "\n",
        "for i in range (100):\n",
        "     individuo = []\n",
        "     individuo += [np.random.choice (genes[0])]\n",
        "     individuo += list(np.random.choice (genes[1], tamanho_individuo - 1))\n",
        "     populacao.append (individuo)\n",
        "\n",
        "populacao [:10]"
      ],
      "metadata": {
        "colab": {
          "base_uri": "https://localhost:8080/"
        },
        "id": "4WF1yTCSyTsk",
        "outputId": "b3f74e2b-b273-471b-bb37-5037a2566123"
      },
      "execution_count": null,
      "outputs": [
        {
          "output_type": "execute_result",
          "data": {
            "text/plain": [
              "[[0, 6, 7, 0, 1, 8, 2, 7, 9, 0, 9, 3, 0, 7, 4],\n",
              " [0, 6, 9, 1, 4, 9, 6, 0, 4, 6, 6, 1, 1, 0, 0],\n",
              " [1, 4, 6, 1, 1, 4, 0, 4, 8, 7, 3, 5, 5, 0, 7],\n",
              " [1, 6, 7, 1, 0, 5, 6, 2, 0, 7, 7, 1, 1, 6, 0],\n",
              " [0, 8, 0, 6, 3, 7, 1, 0, 2, 1, 9, 5, 4, 6, 5],\n",
              " [1, 4, 8, 0, 1, 5, 4, 6, 9, 9, 4, 1, 1, 3, 0],\n",
              " [0, 9, 2, 1, 0, 3, 5, 8, 0, 4, 5, 7, 9, 4, 8],\n",
              " [0, 5, 9, 9, 7, 0, 1, 9, 4, 7, 9, 1, 9, 4, 3],\n",
              " [1, 8, 8, 1, 5, 7, 7, 7, 1, 5, 6, 5, 8, 0, 6],\n",
              " [1, 3, 3, 8, 6, 9, 9, 7, 1, 0, 1, 6, 3, 7, 0]]"
            ]
          },
          "metadata": {},
          "execution_count": 122
        }
      ]
    },
    {
      "cell_type": "code",
      "source": [
        "#Função para converter em decimais\n",
        "\n",
        "def lista_para_decimal(num):\n",
        "  decimal = 0\n",
        "  for i in range(len(num)):\n",
        "      decimal += num[i]*10**(-i)\n",
        "  return decimal"
      ],
      "metadata": {
        "id": "hgJotocFC91V"
      },
      "execution_count": null,
      "outputs": []
    },
    {
      "cell_type": "code",
      "source": [
        "lista_para_decimal(individuo)\n",
        "#individuo (linha) sempre entre 0 e 1"
      ],
      "metadata": {
        "colab": {
          "base_uri": "https://localhost:8080/"
        },
        "id": "RRmKV8QgDeDK",
        "outputId": "2bb60d03-f146-4c53-a1ec-ce38d78a5c08"
      },
      "execution_count": null,
      "outputs": [
        {
          "output_type": "execute_result",
          "data": {
            "text/plain": [
              "0.59944106772984"
            ]
          },
          "metadata": {},
          "execution_count": 124
        }
      ]
    },
    {
      "cell_type": "code",
      "source": [
        "for individuo in populacao:\n",
        "    x = lista_para_decimal(individuo)\n",
        "    y = fx(x)\n",
        "    plt.plot (x,y,'x')\n",
        "plt.plot (x_axis, y_axis)"
      ],
      "metadata": {
        "colab": {
          "base_uri": "https://localhost:8080/"
        },
        "id": "no6Ma7fVEdBC",
        "outputId": "70ff5939-6f50-47ee-e840-c3263ef6d043"
      },
      "execution_count": null,
      "outputs": [
        {
          "output_type": "execute_result",
          "data": {
            "text/plain": [
              "[<matplotlib.lines.Line2D at 0x7fab97653eb0>]"
            ]
          },
          "metadata": {},
          "execution_count": 125
        },
        {
          "output_type": "display_data",
          "data": {
            "text/plain": [
              "<Figure size 432x288 with 1 Axes>"
            ],
            "image/png": "[encoded data removed]"
          },
          "metadata": {
            "needs_background": "light"
          }
        }
      ]
    },
    {
      "cell_type": "markdown",
      "source": [
        "# FUNÇÃO FITNESS"
      ],
      "metadata": {
        "id": "c03M5qUJhvOg"
      }
    },
    {
      "cell_type": "markdown",
      "source": [
        "Essa função em algoritmos genéticos vai nos ajudar a medir o sucesso do nosso indivíduo (que é a nossa solução) em maximizar a nossa função. Ela avalia cada um deles para determinar qual é o mais apto para ser selecionado e reproduzido, para que possamos gerar soluções cada vez mais eficientes. No nosso caso, o critério será representar os valores de y em porcentagens obtidas de probabilidades. Todos os valores serão divididos pela soma total. Números maiores produzem uma porcentagem maior e isso já nos oferece os melhores individuos (aqueles que obtiveram números maiores em y)."
      ],
      "metadata": {
        "id": "tfWTYp7KNm_X"
      }
    },
    {
      "cell_type": "markdown",
      "source": [
        "**APLICAÇÃO DO FOR:**\n",
        "\n",
        "Aqui essa estrutura irá iterar sobre a população e avaliar cada indivíduo com o cálculo definido na função fitness. \n",
        "\n",
        "\n",
        "**APLICAÇÃO DE FUNÇÃO:**\n",
        "\n",
        "Perceba que chamamos duas das funções que já criamos (a com a função do problema e a de conversão para decimal), assim confirmamos que o uso de funções nos auxilia a tornar o código mais fácil de ser gerenciado.\n"
      ],
      "metadata": {
        "id": "F6dFPce5QWiT"
      }
    },
    {
      "cell_type": "code",
      "source": [
        "fitness = []\n",
        "\n",
        "for individuo in populacao:\n",
        "  x = lista_para_decimal(individuo)\n",
        "  y = fx(x)\n",
        "  fitness += [y]\n",
        "\n",
        "fitness = np.array(fitness)\n",
        "fitness = fitness/fitness.sum()\n",
        "\n",
        "fitness"
      ],
      "metadata": {
        "colab": {
          "base_uri": "https://localhost:8080/"
        },
        "id": "8r4EQ9XRh5vo",
        "outputId": "b8d04566-1e2b-4945-9a9a-c2c18bd5bb22"
      },
      "execution_count": null,
      "outputs": [
        {
          "output_type": "execute_result",
          "data": {
            "text/plain": [
              "array([0.01226988, 0.0122898 , 0.01046604, 0.010053  , 0.01151815,\n",
              "       0.01022835, 0.01234119, 0.01148559, 0.00688694, 0.01222945,\n",
              "       0.00697693, 0.00685876, 0.01013705, 0.01049249, 0.00687463,\n",
              "       0.0101971 , 0.01173443, 0.00687206, 0.00874709, 0.01149879,\n",
              "       0.0100703 , 0.01190307, 0.00704478, 0.00673004, 0.00998056,\n",
              "       0.01148867, 0.01297712, 0.01187473, 0.00903392, 0.01183947,\n",
              "       0.00703781, 0.00703892, 0.00696226, 0.00790608, 0.0100444 ,\n",
              "       0.0121341 , 0.01261789, 0.01169508, 0.00710747, 0.01226803,\n",
              "       0.00790445, 0.01122866, 0.01228568, 0.00695094, 0.01203307,\n",
              "       0.00689729, 0.00995942, 0.01024488, 0.00687432, 0.01105095,\n",
              "       0.00687246, 0.01149964, 0.01217143, 0.00687789, 0.01002173,\n",
              "       0.00702609, 0.01009751, 0.0122483 , 0.01188001, 0.0099686 ,\n",
              "       0.01161938, 0.00945042, 0.00998129, 0.00861415, 0.01044924,\n",
              "       0.01179263, 0.00951059, 0.00795981, 0.01018958, 0.006501  ,\n",
              "       0.01019349, 0.01175976, 0.0129699 , 0.01021757, 0.01138029,\n",
              "       0.01014912, 0.0100112 , 0.00681094, 0.01010694, 0.01130035,\n",
              "       0.01012454, 0.00687323, 0.01228746, 0.00689299, 0.01009181,\n",
              "       0.00996443, 0.01189432, 0.01166905, 0.01168314, 0.01149615,\n",
              "       0.01020861, 0.00684707, 0.01007588, 0.01086431, 0.01229492,\n",
              "       0.00930506, 0.01165532, 0.00904205, 0.01227513, 0.01148119])"
            ]
          },
          "metadata": {},
          "execution_count": 126
        }
      ]
    },
    {
      "cell_type": "markdown",
      "source": [
        "# CRUZAMENTO"
      ],
      "metadata": {
        "id": "SOEx7JXhh9Eg"
      }
    },
    {
      "cell_type": "markdown",
      "source": [
        "Esse processo criará novas soluções a partir dos nossos indivíduos já existentes simulando a reprodução sexual, combinando as informações genéticas de dois indivíduos para reproduzir um novo indivíduo (filho). Aqui, vamos escolher dois indivíduos da população (nossa lista de retorno), aplicando a probabilidade feita em fitness e um ponto de cruzamento para depois adicionar à população de filhos.\n"
      ],
      "metadata": {
        "id": "YAInfvelHfok"
      }
    },
    {
      "cell_type": "markdown",
      "source": [
        "**APLICAÇÃO DO FOR:**\n",
        "\n",
        "Através dessa estrutura vamos iterar sobre a população e aplicar o processo de cruzamento em cada par de indivíduos selecionados."
      ],
      "metadata": {
        "id": "AjVCUmAmJchU"
      }
    },
    {
      "cell_type": "code",
      "source": [
        "tamanho_populacao = len(populacao)\n",
        "\n",
        "filhos = []\n",
        "\n",
        "for i in range (tamanho_populacao//2): #divisão inteira: trunca o resultado para o menor inteiro mais próximo\n",
        "    parentes = np.random.choice (tamanho_populacao, 2, p = fitness)\n",
        "    ponto_de_cruzamento = np.random.randint (tamanho_individuo)\n",
        "    filhos += [populacao [parentes [0]][:ponto_de_cruzamento] + populacao [parentes [1]][ponto_de_cruzamento:]]\n",
        "    filhos += [populacao [parentes [1]][:ponto_de_cruzamento] + populacao [parentes [0]][ponto_de_cruzamento:]]\n",
        "\n",
        "filhos [:10]    "
      ],
      "metadata": {
        "id": "7QE4OBzAh_Jw",
        "colab": {
          "base_uri": "https://localhost:8080/"
        },
        "outputId": "220b0d0e-c4d7-40a7-a0a9-4109335d8da4"
      },
      "execution_count": null,
      "outputs": [
        {
          "output_type": "execute_result",
          "data": {
            "text/plain": [
              "[[0, 4, 9, 1, 7, 6, 4, 4, 4, 7, 4, 2, 2, 6, 4],\n",
              " [1, 9, 4, 7, 7, 8, 4, 4, 3, 5, 9, 9, 8, 4, 4],\n",
              " [0, 4, 2, 1, 5, 5, 2, 3, 9, 4, 5, 6, 6, 8, 3],\n",
              " [0, 5, 0, 1, 9, 4, 5, 2, 7, 9, 7, 8, 8, 0, 9],\n",
              " [0, 6, 2, 5, 3, 9, 9, 6, 2, 9, 4, 9, 5, 2, 6],\n",
              " [1, 9, 5, 2, 5, 3, 7, 3, 3, 2, 4, 2, 8, 9, 8],\n",
              " [0, 4, 2, 1, 0, 4, 3, 8, 9, 7, 1, 7, 2, 9, 3],\n",
              " [0, 5, 6, 4, 5, 5, 2, 2, 7, 9, 7, 8, 8, 0, 9],\n",
              " [0, 8, 0, 6, 3, 7, 1, 3, 5, 4, 1, 2, 9, 0, 7],\n",
              " [1, 3, 0, 6, 1, 7, 4, 0, 2, 1, 9, 5, 4, 6, 5]]"
            ]
          },
          "metadata": {},
          "execution_count": 127
        }
      ]
    },
    {
      "cell_type": "code",
      "source": [
        "populacao = filhos\n",
        "\n",
        "for individuo in populacao:\n",
        "    x = lista_para_decimal(individuo)\n",
        "    y = fx(x)\n",
        "    plt.plot (x,y,'x')\n",
        "plt.plot (x_axis, y_axis)"
      ],
      "metadata": {
        "colab": {
          "base_uri": "https://localhost:8080/",
          "height": 283
        },
        "id": "Cc6snHloDzol",
        "outputId": "3eaae122-4bfc-4a1e-d890-6d89d8fe1f1c"
      },
      "execution_count": null,
      "outputs": [
        {
          "output_type": "execute_result",
          "data": {
            "text/plain": [
              "[<matplotlib.lines.Line2D at 0x7fab974fca30>]"
            ]
          },
          "metadata": {},
          "execution_count": 128
        },
        {
          "output_type": "display_data",
          "data": {
            "text/plain": [
              "<Figure size 432x288 with 1 Axes>"
            ],
            "image/png": "[encoded data removed]"
          },
          "metadata": {
            "needs_background": "light"
          }
        }
      ]
    },
    {
      "cell_type": "markdown",
      "source": [
        "Perceba que em uma única geração já podemos ver que os indivíduos estão se concentrando nos pontos mais altos da função."
      ],
      "metadata": {
        "id": "V_9gyYNqJ1mz"
      }
    },
    {
      "cell_type": "markdown",
      "source": [
        "# MUTAÇÕES"
      ],
      "metadata": {
        "id": "rgcWEiyyiADo"
      }
    },
    {
      "cell_type": "markdown",
      "source": [
        "Mutações introduzem variações em indivíduos da população, simulando os efeitos de cópias com erros do DNA. É útil para evitar que a população fique presa em um ótimo local, permitindo que a busca explore novas áreas do espaço de busca."
      ],
      "metadata": {
        "id": "33-e1sbtTngO"
      }
    },
    {
      "cell_type": "markdown",
      "source": [
        "**APLICAÇÃO DO FOR:**\n",
        "\n",
        "Neste processo, o for vai iterar sobre a população inteira e aplicar a mutação em cada indivíduo selecionado usando a probabilidade de ocorrer uma mutação e assim adicionando à população a cada vez que o processo é repetido.\n",
        "\n",
        "**APLICAÇÃO DE FUNÇÃO:**\n",
        "\n",
        "Nessa etapa temos uma função para aplicar a mutação em um indivíduo e retornar adicionando-o população. Note que ao chamá-la passamos três parâmetros: a população, o valor da probabilidade e o conjunto de variedade de genes que definimos na etapa da representação da população."
      ],
      "metadata": {
        "id": "qATSvIgOTjsD"
      }
    },
    {
      "cell_type": "code",
      "source": [
        "def mutar (individuos_mutacao, probabilidade, genes):\n",
        "    for i in range (len(individuos_mutacao)):\n",
        "        mutacao_individual = individuos_mutacao[i]\n",
        "        if np.random.random() <probabilidade:\n",
        "            mutacao = np.random.choice (genes[0])\n",
        "            mutacao_individual = [mutacao] + mutacao_individual[1:]\n",
        "\n",
        "        for j in range(1, len(mutacao_individual)):\n",
        "            if np.random.random() < probabilidade:\n",
        "               mutacao = np.random.choice(genes[1])\n",
        "               mutacao_individual = mutacao_individual[0:j] + [mutacao] + mutacao_individual[j+1:]\n",
        "        individuos_mutacao[i] = mutacao_individual"
      ],
      "metadata": {
        "id": "WdSVpqlbiGOI"
      },
      "execution_count": null,
      "outputs": []
    },
    {
      "cell_type": "code",
      "source": [
        "mutar(populacao,0.005,genes)\n",
        "populacao[:10]"
      ],
      "metadata": {
        "colab": {
          "base_uri": "https://localhost:8080/"
        },
        "id": "bENwZHDlSAvF",
        "outputId": "407ab412-ed00-4c78-859e-cba6aac337c8"
      },
      "execution_count": null,
      "outputs": [
        {
          "output_type": "execute_result",
          "data": {
            "text/plain": [
              "[[0, 4, 9, 1, 7, 6, 4, 4, 4, 7, 4, 2, 2, 6, 4],\n",
              " [1, 9, 4, 7, 7, 8, 4, 4, 3, 5, 9, 9, 8, 4, 4],\n",
              " [0, 4, 2, 1, 5, 5, 2, 3, 9, 4, 5, 6, 6, 8, 3],\n",
              " [0, 5, 0, 1, 9, 4, 5, 2, 7, 9, 7, 8, 8, 0, 9],\n",
              " [0, 6, 2, 5, 3, 9, 9, 6, 2, 9, 4, 9, 5, 2, 6],\n",
              " [1, 9, 5, 2, 5, 3, 7, 3, 3, 2, 4, 2, 8, 9, 8],\n",
              " [0, 4, 2, 1, 0, 4, 3, 8, 9, 7, 1, 7, 2, 9, 3],\n",
              " [0, 5, 6, 4, 5, 5, 2, 2, 7, 9, 7, 8, 8, 0, 9],\n",
              " [0, 8, 0, 6, 3, 7, 1, 3, 5, 4, 1, 2, 9, 0, 7],\n",
              " [1, 3, 0, 6, 1, 7, 4, 0, 2, 1, 9, 5, 4, 6, 5]]"
            ]
          },
          "metadata": {},
          "execution_count": 130
        }
      ]
    },
    {
      "cell_type": "code",
      "source": [
        "for individuo in populacao:\n",
        "    x = lista_para_decimal(individuo)\n",
        "    y = fx(x)\n",
        "    plt.plot (x,y,'x')\n",
        "plt.plot (x_axis, y_axis)"
      ],
      "metadata": {
        "colab": {
          "base_uri": "https://localhost:8080/",
          "height": 283
        },
        "id": "t0-T4KPdSf7E",
        "outputId": "dcca8f22-58be-4ab6-9328-2806e8c9f400"
      },
      "execution_count": null,
      "outputs": [
        {
          "output_type": "execute_result",
          "data": {
            "text/plain": [
              "[<matplotlib.lines.Line2D at 0x7fab9736f4f0>]"
            ]
          },
          "metadata": {},
          "execution_count": 131
        },
        {
          "output_type": "display_data",
          "data": {
            "text/plain": [
              "<Figure size 432x288 with 1 Axes>"
            ],
            "image/png": "[encoded data removed]"
          },
          "metadata": {
            "needs_background": "light"
          }
        }
      ]
    },
    {
      "cell_type": "markdown",
      "source": [
        "OBS.: Não mudou muito devido à baixa chance de mutação, mas é assim que precisa ser. Mutações muito altas podem levar a soluções inviáveis, enquanto que se forem baixas podem ficar presas a um ótimo local."
      ],
      "metadata": {
        "id": "-e_AE1IhSqYa"
      }
    },
    {
      "cell_type": "markdown",
      "source": [
        "# RESULTADO"
      ],
      "metadata": {
        "id": "F9ZOtdqyiGpA"
      }
    },
    {
      "cell_type": "code",
      "source": [
        "geracoes = 100\n",
        "\n",
        "for _ in range(geracoes):\n",
        "\n",
        "      fitness = []\n",
        "\n",
        "      for individuo in populacao:\n",
        "            x = lista_para_decimal(individuo)\n",
        "            y = fx(x)\n",
        "            fitness += [y]\n",
        "\n",
        "      fitness = np.array(fitness)\n",
        "      fitness = fitness/fitness.sum()\n",
        "\n",
        "      filhos = []\n",
        "\n",
        "      for i in range (tamanho_populacao//2):\n",
        "         parentes = np.random.choice(tamanho_populacao,2,p=fitness)\n",
        "         ponto_de_cruzamento = np.random.randint(tamanho_individuo)\n",
        "         filhos += [populacao [parentes [0]][:ponto_de_cruzamento] + populacao [parentes [1]][ponto_de_cruzamento:]]\n",
        "         filhos += [populacao [parentes [1]][:ponto_de_cruzamento] + populacao [parentes [0]][ponto_de_cruzamento:]] \n",
        "\n",
        "      populacao = filhos\n",
        "\n",
        "      mutar(populacao, 0.005, genes)     "
      ],
      "metadata": {
        "id": "wc_79nCKXImu"
      },
      "execution_count": null,
      "outputs": []
    },
    {
      "cell_type": "code",
      "source": [
        "for individuo in populacao:\n",
        "    x = lista_para_decimal(individuo)\n",
        "    y = fx(x)\n",
        "    plt.plot (x,y,'x')\n",
        "plt.plot (x_axis, y_axis)"
      ],
      "metadata": {
        "colab": {
          "base_uri": "https://localhost:8080/",
          "height": 283
        },
        "id": "zeb9MpJuYZZ5",
        "outputId": "929bb5f8-16cf-4563-f252-d1b4ad496fa6"
      },
      "execution_count": null,
      "outputs": [
        {
          "output_type": "execute_result",
          "data": {
            "text/plain": [
              "[<matplotlib.lines.Line2D at 0x7fab971e9670>]"
            ]
          },
          "metadata": {},
          "execution_count": 133
        },
        {
          "output_type": "display_data",
          "data": {
            "text/plain": [
              "<Figure size 432x288 with 1 Axes>"
            ],
            "image/png": "[encoded data removed]"
          },
          "metadata": {
            "needs_background": "light"
          }
        }
      ]
    },
    {
      "cell_type": "markdown",
      "source": [
        "Depois de 100 gerações podemos ver que a maioria dos indivíduos está concentrada em torno do valor máximo. Quanto mais deixarmos reproduzir por um número maior de gerações mais os indivíduos estarão próximo do máximo."
      ],
      "metadata": {
        "id": "ZYynyDd_wdnu"
      }
    },
    {
      "cell_type": "code",
      "source": [],
      "metadata": {
        "id": "43ig4SfGwoXS"
      },
      "execution_count": null,
      "outputs": []
    }
  ]
}