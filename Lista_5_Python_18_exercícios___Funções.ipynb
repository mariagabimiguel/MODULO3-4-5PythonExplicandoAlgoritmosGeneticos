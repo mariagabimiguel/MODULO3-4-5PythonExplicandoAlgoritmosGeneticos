{
  "nbformat": 4,
  "nbformat_minor": 0,
  "metadata": {
    "colab": {
      "provenance": []
    },
    "kernelspec": {
      "name": "python3",
      "display_name": "Python 3"
    },
    "language_info": {
      "name": "python"
    }
  },
  "cells": [
    {
      "cell_type": "markdown",
      "source": [
        "##1) COMO CRIAR UMA FUNÇÃO QUE ACEITA DOIS ARGUMENTOS (NOME E IDADE) E IMPRIME SEU VALOR?"
      ],
      "metadata": {
        "id": "Aqu5A_d7fU5F"
      }
    },
    {
      "cell_type": "code",
      "source": [
        "def nome_idade(nome, idade):\n",
        "  return (f\"Nome: {nome}, Idade: {idade}\")"
      ],
      "metadata": {
        "id": "qJE32m9UinVN"
      },
      "execution_count": null,
      "outputs": []
    },
    {
      "cell_type": "code",
      "source": [
        "nome_idade(\"Maria\", 27)"
      ],
      "metadata": {
        "colab": {
          "base_uri": "https://localhost:8080/",
          "height": 36
        },
        "id": "rb-_r2qJjTyA",
        "outputId": "b85ed2fd-d305-4857-c583-50ee35266f1a"
      },
      "execution_count": null,
      "outputs": [
        {
          "output_type": "execute_result",
          "data": {
            "text/plain": [
              "'Nome: Maria, Idade: 27'"
            ],
            "application/vnd.google.colaboratory.intrinsic+json": {
              "type": "string"
            }
          },
          "metadata": {},
          "execution_count": 13
        }
      ]
    },
    {
      "cell_type": "code",
      "source": [
        "type(nome_idade)"
      ],
      "metadata": {
        "colab": {
          "base_uri": "https://localhost:8080/"
        },
        "id": "eZQb0c_CjvJG",
        "outputId": "0ee7e16f-3270-42cf-d9e9-1a007b36aa7e"
      },
      "execution_count": null,
      "outputs": [
        {
          "output_type": "execute_result",
          "data": {
            "text/plain": [
              "function"
            ]
          },
          "metadata": {},
          "execution_count": 14
        }
      ]
    },
    {
      "cell_type": "markdown",
      "source": [
        "##2) COMO ESCREVER UMA FUNÇÃO DE FORMA QUE ELA POSSA ACEITAR UM TAMANHO VARIÁVEL DE ARGUMENTO E IMPRIMIR TODOS OS VALORES DOS ARGUMENTOS?"
      ],
      "metadata": {
        "id": "txPtDVJlj0Qa"
      }
    },
    {
      "cell_type": "markdown",
      "source": [
        "***args: usado para receber uma lista de argumentos de comprimento variável**"
      ],
      "metadata": {
        "id": "1RMdeUhNkoro"
      }
    },
    {
      "cell_type": "code",
      "source": [
        "def recebe_parametros(*args): #(1, 2 ,3, 4, 5)\n",
        "  for i in args:\n",
        "    print(i)"
      ],
      "metadata": {
        "id": "M2Fk-t7CkCz-"
      },
      "execution_count": null,
      "outputs": []
    },
    {
      "cell_type": "code",
      "source": [
        "recebe_parametros(1,2,3,4,5)"
      ],
      "metadata": {
        "colab": {
          "base_uri": "https://localhost:8080/"
        },
        "id": "ikMoPbTIk4dH",
        "outputId": "e242234f-5d4c-425d-e5bd-2f69151e6201"
      },
      "execution_count": null,
      "outputs": [
        {
          "output_type": "stream",
          "name": "stdout",
          "text": [
            "1\n",
            "2\n",
            "3\n",
            "4\n",
            "5\n"
          ]
        }
      ]
    },
    {
      "cell_type": "code",
      "source": [
        "recebe_parametros(50, 100, 150)"
      ],
      "metadata": {
        "colab": {
          "base_uri": "https://localhost:8080/"
        },
        "id": "7bzyAkpkk7yT",
        "outputId": "5e2fc4eb-babd-413c-ed89-16d3a0913e7d"
      },
      "execution_count": null,
      "outputs": [
        {
          "output_type": "stream",
          "name": "stdout",
          "text": [
            "50\n",
            "100\n",
            "150\n"
          ]
        }
      ]
    },
    {
      "cell_type": "code",
      "source": [
        "recebe_parametros(\"Maria\", \"27 anos\")"
      ],
      "metadata": {
        "colab": {
          "base_uri": "https://localhost:8080/"
        },
        "id": "SMHMlEu6lFxg",
        "outputId": "8a1149c0-9a95-426f-83f4-5fb00c9208e7"
      },
      "execution_count": null,
      "outputs": [
        {
          "output_type": "stream",
          "name": "stdout",
          "text": [
            "Maria\n",
            "27 anos\n"
          ]
        }
      ]
    },
    {
      "cell_type": "markdown",
      "source": [
        "##3) COMO ESCREVER UMA FUNÇÃO QUE ACEITE DUAS VARIÁVEIS E CALCULE A ADIÇÃO E SUBTRAÇÃO DELAS? TAMBÉM DEVE RETORNAR A ADIÇÃO E SUBTRAÇÃO EM UMA ÚNICA CHAMADA DE RETORNO."
      ],
      "metadata": {
        "id": "6k700YZ2lPOM"
      }
    },
    {
      "cell_type": "code",
      "source": [
        "def pequena_calculadora(x, y):\n",
        "  soma = x + y\n",
        "  sub = x - y\n",
        "  return soma, sub"
      ],
      "metadata": {
        "id": "KjfWDNvflfNI"
      },
      "execution_count": null,
      "outputs": []
    },
    {
      "cell_type": "code",
      "source": [
        "pequena_calculadora (20, 20)"
      ],
      "metadata": {
        "colab": {
          "base_uri": "https://localhost:8080/"
        },
        "id": "1ccFpTkHmBYZ",
        "outputId": "551e0b5f-a8bf-45c3-d6fd-cca4753c16ef"
      },
      "execution_count": null,
      "outputs": [
        {
          "output_type": "execute_result",
          "data": {
            "text/plain": [
              "(40, 0)"
            ]
          },
          "metadata": {},
          "execution_count": 20
        }
      ]
    },
    {
      "cell_type": "code",
      "source": [
        "#ou\n",
        "def simples_calculadora (x, y):\n",
        "  return x + y, x - y"
      ],
      "metadata": {
        "id": "Ie-VfOHmmLvA"
      },
      "execution_count": null,
      "outputs": []
    },
    {
      "cell_type": "code",
      "source": [
        "simples_calculadora (20, 20)"
      ],
      "metadata": {
        "colab": {
          "base_uri": "https://localhost:8080/"
        },
        "id": "8eZaIqfEmVFZ",
        "outputId": "a03004c7-16b4-44ac-84eb-50ad73ede520"
      },
      "execution_count": null,
      "outputs": [
        {
          "output_type": "execute_result",
          "data": {
            "text/plain": [
              "(40, 0)"
            ]
          },
          "metadata": {},
          "execution_count": 23
        }
      ]
    },
    {
      "cell_type": "code",
      "source": [
        "#salvando a função dentro de variável\n",
        "calculadora_soma, calculadora_sub = simples_calculadora(1,1)\n",
        "print(calculadora_soma)\n",
        "print(calculadora_sub)"
      ],
      "metadata": {
        "colab": {
          "base_uri": "https://localhost:8080/"
        },
        "id": "joJvwXIrmnPt",
        "outputId": "873041e3-3756-4e91-9197-48a5e3e8bfcb"
      },
      "execution_count": null,
      "outputs": [
        {
          "output_type": "stream",
          "name": "stdout",
          "text": [
            "2\n",
            "0\n"
          ]
        }
      ]
    },
    {
      "cell_type": "markdown",
      "source": [
        "##4) COMO CRIAR UMA FUNÇÃO QUE ACEITE O NOME DO FUNCIONÁRIO E SEU SALÁRIO E EXIBA AMBOS? SE O SALÁRIO ESTIVER FALTANDO NA CHAMADA DA FUNÇÃO, ATRIBUA O VALOR PADRÃO 1000 AO SALÁRIO."
      ],
      "metadata": {
        "id": "dzCNk48fn_C1"
      }
    },
    {
      "cell_type": "code",
      "source": [
        "def funcionario_e_salario(nome, salario=1000):\n",
        "  return (nome, salario)"
      ],
      "metadata": {
        "id": "rnHbQlq0oLY_"
      },
      "execution_count": null,
      "outputs": []
    },
    {
      "cell_type": "code",
      "source": [
        "funcionario_e_salario (\"Maria\", 10000)"
      ],
      "metadata": {
        "colab": {
          "base_uri": "https://localhost:8080/"
        },
        "id": "1QWDBYkwowH7",
        "outputId": "8ece24a7-e1a2-4f45-e524-9b26e07d1cb3"
      },
      "execution_count": null,
      "outputs": [
        {
          "output_type": "execute_result",
          "data": {
            "text/plain": [
              "('Maria', 10000)"
            ]
          },
          "metadata": {},
          "execution_count": 34
        }
      ]
    },
    {
      "cell_type": "code",
      "source": [
        "funcionario_e_salario(\"Maria\")"
      ],
      "metadata": {
        "colab": {
          "base_uri": "https://localhost:8080/"
        },
        "id": "tg-y9kRso2Gf",
        "outputId": "854ae9a3-6fbd-4947-a1cb-95a840c4c63f"
      },
      "execution_count": null,
      "outputs": [
        {
          "output_type": "execute_result",
          "data": {
            "text/plain": [
              "('Maria', 1000)"
            ]
          },
          "metadata": {},
          "execution_count": 35
        }
      ]
    },
    {
      "cell_type": "markdown",
      "source": [
        "##5) COMO ESCREVER UMA FUNÇÃO RECURSIVA PARA CALCULAR A SOMA DOS NÚMEROS DE ZERO A 10?"
      ],
      "metadata": {
        "id": "ZVAzTQLFo9pP"
      }
    },
    {
      "cell_type": "markdown",
      "source": [
        "**Função recursiva é o processo de chamar a si própria.**"
      ],
      "metadata": {
        "id": "xqU-g5kJpQqN"
      }
    },
    {
      "cell_type": "code",
      "source": [
        "def calculo_da_soma (num):\n",
        "  if (num):\n",
        "    print (num)\n",
        "    return num + calculo_da_soma (num - 1)\n",
        "    #esta rodando a função em cima dela mesma\n",
        "  else:\n",
        "    return 0"
      ],
      "metadata": {
        "id": "Dp22hDncpdsU"
      },
      "execution_count": null,
      "outputs": []
    },
    {
      "cell_type": "code",
      "source": [
        "resultado = calculo_da_soma (10)\n",
        "print (resultado)"
      ],
      "metadata": {
        "colab": {
          "base_uri": "https://localhost:8080/"
        },
        "id": "ZNqaq7Pkp5yz",
        "outputId": "342f4c83-193a-46d5-9e03-cbd7bc82c2a6"
      },
      "execution_count": null,
      "outputs": [
        {
          "output_type": "stream",
          "name": "stdout",
          "text": [
            "10\n",
            "9\n",
            "8\n",
            "7\n",
            "6\n",
            "5\n",
            "4\n",
            "3\n",
            "2\n",
            "1\n",
            "55\n"
          ]
        }
      ]
    },
    {
      "cell_type": "markdown",
      "source": [
        "##6) COMO ESCREVER UMA FUNÇÃO QUE QUANDO FORMOS USÁ-LA PODEMOS CHAMAR POR OUTRO NOME?"
      ],
      "metadata": {
        "id": "10F7yJrxrOux"
      }
    },
    {
      "cell_type": "markdown",
      "source": [
        "**Esse exercício é importante para notar que podemos colocar a função em uma variável, tornando tudo mais fácil dependendo do código.**"
      ],
      "metadata": {
        "id": "tHTfxC4crnmz"
      }
    },
    {
      "cell_type": "code",
      "source": [
        "def mostra_flor_cor (flor, cor):\n",
        "  return flor, cor"
      ],
      "metadata": {
        "id": "crE8gzw3rXaH"
      },
      "execution_count": null,
      "outputs": []
    },
    {
      "cell_type": "code",
      "source": [
        "mostra_flor_cor (\"Rosa\", \"Vermelha\")"
      ],
      "metadata": {
        "colab": {
          "base_uri": "https://localhost:8080/"
        },
        "id": "W8WueJNLsCUB",
        "outputId": "6b5b94b1-7f54-4b03-bbba-b61b37a0aed0"
      },
      "execution_count": null,
      "outputs": [
        {
          "output_type": "execute_result",
          "data": {
            "text/plain": [
              "('Rosa', 'Vermelha')"
            ]
          },
          "metadata": {},
          "execution_count": 43
        }
      ]
    },
    {
      "cell_type": "code",
      "source": [
        "preferencia_usuario = mostra_flor_cor"
      ],
      "metadata": {
        "id": "-y0KaGCwsHqB"
      },
      "execution_count": null,
      "outputs": []
    },
    {
      "cell_type": "code",
      "source": [
        "type(preferencia_usuario)"
      ],
      "metadata": {
        "colab": {
          "base_uri": "https://localhost:8080/"
        },
        "id": "CzBUW8HRsVOS",
        "outputId": "540f87a9-9f66-46bb-8f54-9357c03f041d"
      },
      "execution_count": null,
      "outputs": [
        {
          "output_type": "execute_result",
          "data": {
            "text/plain": [
              "function"
            ]
          },
          "metadata": {},
          "execution_count": 45
        }
      ]
    },
    {
      "cell_type": "code",
      "source": [
        "preferencia_usuario (\"Orquidea\", \"Branca\")"
      ],
      "metadata": {
        "colab": {
          "base_uri": "https://localhost:8080/"
        },
        "id": "xV-J9Ev4s1Zm",
        "outputId": "99f1e92d-92ee-46e0-f910-05182d945ec6"
      },
      "execution_count": null,
      "outputs": [
        {
          "output_type": "execute_result",
          "data": {
            "text/plain": [
              "('Orquidea', 'Branca')"
            ]
          },
          "metadata": {},
          "execution_count": 46
        }
      ]
    },
    {
      "cell_type": "markdown",
      "source": [
        "##7) COMO CRIAR UMA FUNÇÃO QUE RECEBE COMO PARÂMETRO UM NÚMERO INTEIRO E DEVOLVE SEU DOBRO?"
      ],
      "metadata": {
        "id": "yPh0cTF6s9tm"
      }
    },
    {
      "cell_type": "code",
      "source": [
        "def retorne_dobro (numero_inteiro):\n",
        "  return 2 * numero_inteiro"
      ],
      "metadata": {
        "id": "R4XMTJ6QtEvU"
      },
      "execution_count": null,
      "outputs": []
    },
    {
      "cell_type": "code",
      "source": [
        "retorne_dobro (8)"
      ],
      "metadata": {
        "colab": {
          "base_uri": "https://localhost:8080/"
        },
        "id": "Ti_Pl365tbOW",
        "outputId": "6554d7aa-09ed-451d-f633-3c8262bf254e"
      },
      "execution_count": null,
      "outputs": [
        {
          "output_type": "execute_result",
          "data": {
            "text/plain": [
              "16"
            ]
          },
          "metadata": {},
          "execution_count": 50
        }
      ]
    },
    {
      "cell_type": "markdown",
      "source": [
        "##8) COMO CRIAR UMA FUNÇÃO PARA VERIFICAR SE UM NÚMERO É POSITIVO OU NEGATIVO? O VALOR DE RETORNO DEVE SER 1 PARA POSITIVO E -1 PARA NEGATIVO, ZERO SE FOR IGUAL A ZERO."
      ],
      "metadata": {
        "id": "Jb1tDsWltoxd"
      }
    },
    {
      "cell_type": "code",
      "source": [
        "def verificacao(x):\n",
        "  if (x > 0):\n",
        "    return 1\n",
        "  elif (x < 0):\n",
        "    return -1\n",
        "  else:\n",
        "    return \"Igual a zero\""
      ],
      "metadata": {
        "id": "QtFdTyhLuJIs"
      },
      "execution_count": null,
      "outputs": []
    },
    {
      "cell_type": "code",
      "source": [
        "verificacao(4)"
      ],
      "metadata": {
        "colab": {
          "base_uri": "https://localhost:8080/"
        },
        "id": "lMUwVF2jux0K",
        "outputId": "ad5038b7-fda7-4a2c-a85b-0c1052578e89"
      },
      "execution_count": null,
      "outputs": [
        {
          "output_type": "execute_result",
          "data": {
            "text/plain": [
              "1"
            ]
          },
          "metadata": {},
          "execution_count": 52
        }
      ]
    },
    {
      "cell_type": "code",
      "source": [
        "verificacao(-40)"
      ],
      "metadata": {
        "colab": {
          "base_uri": "https://localhost:8080/"
        },
        "id": "g_ahd9tju0FX",
        "outputId": "70cc1749-91ae-4629-841e-1666e45f1401"
      },
      "execution_count": null,
      "outputs": [
        {
          "output_type": "execute_result",
          "data": {
            "text/plain": [
              "-1"
            ]
          },
          "metadata": {},
          "execution_count": 53
        }
      ]
    },
    {
      "cell_type": "code",
      "source": [
        "verificacao(0)"
      ],
      "metadata": {
        "colab": {
          "base_uri": "https://localhost:8080/",
          "height": 36
        },
        "id": "Vz8jd3-Yu3YS",
        "outputId": "e5ddf3a6-5d23-4f85-ab73-22b81922b06a"
      },
      "execution_count": null,
      "outputs": [
        {
          "output_type": "execute_result",
          "data": {
            "text/plain": [
              "'Igual a zero'"
            ],
            "application/vnd.google.colaboratory.intrinsic+json": {
              "type": "string"
            }
          },
          "metadata": {},
          "execution_count": 54
        }
      ]
    },
    {
      "cell_type": "markdown",
      "source": [
        "##9) COMO CRIAR UMA FUNÇÃO QUE RECEBE DOIS NUMEROS E RETORNA QUAL DELES É O  MAIOR?"
      ],
      "metadata": {
        "id": "6J4rFMUIvGKY"
      }
    },
    {
      "cell_type": "code",
      "source": [
        "def valor_maior (a, b):\n",
        "  if (a > b):\n",
        "    return a\n",
        "  elif (a < b):\n",
        "    return b\n",
        "  else:\n",
        "    return \"São iguais\""
      ],
      "metadata": {
        "id": "H7j_xMdHvZ5p"
      },
      "execution_count": null,
      "outputs": []
    },
    {
      "cell_type": "code",
      "source": [
        "valor_maior (4, 8)"
      ],
      "metadata": {
        "colab": {
          "base_uri": "https://localhost:8080/"
        },
        "id": "aTcFbU9kv5VK",
        "outputId": "4f3bbc56-7c3a-4d9c-f566-df16ee062629"
      },
      "execution_count": null,
      "outputs": [
        {
          "output_type": "execute_result",
          "data": {
            "text/plain": [
              "8"
            ]
          },
          "metadata": {},
          "execution_count": 56
        }
      ]
    },
    {
      "cell_type": "code",
      "source": [
        "valor_maior(12, 12)"
      ],
      "metadata": {
        "colab": {
          "base_uri": "https://localhost:8080/",
          "height": 36
        },
        "id": "T_eOUtoFv7i8",
        "outputId": "ffb89b5d-0376-48ac-ea20-db4aa9ebe324"
      },
      "execution_count": null,
      "outputs": [
        {
          "output_type": "execute_result",
          "data": {
            "text/plain": [
              "'São iguais'"
            ],
            "application/vnd.google.colaboratory.intrinsic+json": {
              "type": "string"
            }
          },
          "metadata": {},
          "execution_count": 57
        }
      ]
    },
    {
      "cell_type": "markdown",
      "source": [
        "##10) COMO ELABORAR UMA FUNÇÃO QUE RECEBA TRÊS NOTAS DE UM ALUNO E UMA LETRA? SE A LETRA FOR A: A FUNÇÃO DEVE CALCULAR A MÉDIA ARITMÉTICA; SE A LETRA FOR P, DEVERÁ CALCULAR A MÉDIA PONDERADA COM PESOS 5, 3 E 2."
      ],
      "metadata": {
        "id": "HcupftW-wBMM"
      }
    },
    {
      "cell_type": "code",
      "source": [
        "def media_aluno (nota1, nota2, nota3, letra):\n",
        "  if (letra == \"A\"):\n",
        "    media_aritmetica = (nota1 + nota2 + nota3)/3\n",
        "    return (f\"A média aritmética é: {media_aritmetica}\")\n",
        "  elif (letra == \"P\"): \n",
        "    media_ponderada = (nota1 * 5 + nota2 * 3 + nota3 * 2)/(5+3+2)\n",
        "    return (f\"A média ponderada é: {media_ponderada}\")\n",
        "  else:\n",
        "    return (\"A letra é invalida\")"
      ],
      "metadata": {
        "id": "3vlbejJfwW0X"
      },
      "execution_count": null,
      "outputs": []
    },
    {
      "cell_type": "code",
      "source": [
        "media_aluno(1,2,10,\"A\")"
      ],
      "metadata": {
        "colab": {
          "base_uri": "https://localhost:8080/",
          "height": 36
        },
        "id": "-duG1DVexVS4",
        "outputId": "f4dbb011-481e-4df8-f36d-b81220f53605"
      },
      "execution_count": null,
      "outputs": [
        {
          "output_type": "execute_result",
          "data": {
            "text/plain": [
              "'A média aritmética é: 4.333333333333333'"
            ],
            "application/vnd.google.colaboratory.intrinsic+json": {
              "type": "string"
            }
          },
          "metadata": {},
          "execution_count": 67
        }
      ]
    },
    {
      "cell_type": "code",
      "source": [
        "media_aluno(1,2,10,\"P\")"
      ],
      "metadata": {
        "colab": {
          "base_uri": "https://localhost:8080/",
          "height": 36
        },
        "id": "o3w0u244xyb3",
        "outputId": "e64f717f-e378-4f91-9d9e-438ee1809065"
      },
      "execution_count": null,
      "outputs": [
        {
          "output_type": "execute_result",
          "data": {
            "text/plain": [
              "'A média ponderada é: 3.1'"
            ],
            "application/vnd.google.colaboratory.intrinsic+json": {
              "type": "string"
            }
          },
          "metadata": {},
          "execution_count": 68
        }
      ]
    },
    {
      "cell_type": "code",
      "source": [
        "media_aluno(1,2,10,\"M\")"
      ],
      "metadata": {
        "colab": {
          "base_uri": "https://localhost:8080/",
          "height": 36
        },
        "id": "uvqeNX7zyTYo",
        "outputId": "a5eb65ea-bbae-4bcf-f9d2-f96127514ead"
      },
      "execution_count": null,
      "outputs": [
        {
          "output_type": "execute_result",
          "data": {
            "text/plain": [
              "'A letra é invalida'"
            ],
            "application/vnd.google.colaboratory.intrinsic+json": {
              "type": "string"
            }
          },
          "metadata": {},
          "execution_count": 70
        }
      ]
    },
    {
      "cell_type": "markdown",
      "source": [
        "##11) COMO CRIAR UMA FUNÇÃO QUE RECEBE DOIS NÚMEROS INTEIROS POSITIVOS COMO PARÂMETROS E RETORNE A SOMA DOS N NÚMEROS INTEIROS EXISTENTES ENTRE ELES?"
      ],
      "metadata": {
        "id": "JvbdQZZMSMDn"
      }
    },
    {
      "cell_type": "code",
      "source": [
        "def soma_inteiros(a, b):\n",
        "  soma = 0\n",
        "  for i in range(a, b+1, 1):\n",
        "    soma += i\n",
        "  return soma "
      ],
      "metadata": {
        "id": "y3bHb2DhTFb8"
      },
      "execution_count": 4,
      "outputs": []
    },
    {
      "cell_type": "code",
      "source": [
        "soma_inteiros(1, 4)"
      ],
      "metadata": {
        "colab": {
          "base_uri": "https://localhost:8080/"
        },
        "id": "NN8T7aeGT3Nv",
        "outputId": "e2976381-018a-440d-ab1c-5897b185ff83"
      },
      "execution_count": 5,
      "outputs": [
        {
          "output_type": "execute_result",
          "data": {
            "text/plain": [
              "10"
            ]
          },
          "metadata": {},
          "execution_count": 5
        }
      ]
    },
    {
      "cell_type": "markdown",
      "source": [
        "##12) COMO FAZER UMA FUNÇÃO QUE RECEBA A ALTURA E O RAIO DE UM CILINDRO CIRCULAR E RETORNE O VOLUME DO CILINDRO? "
      ],
      "metadata": {
        "id": "57-zMB9zUgVw"
      }
    },
    {
      "cell_type": "code",
      "source": [
        "def volume_cilindro (altura, raio):\n",
        "  pi = 3.141592\n",
        "  volume = (raio*raio) * altura * pi\n",
        "  return volume"
      ],
      "metadata": {
        "id": "expH5A-BU1pe"
      },
      "execution_count": 6,
      "outputs": []
    },
    {
      "cell_type": "code",
      "source": [
        "volume = volume_cilindro(2,3)\n",
        "print(volume)"
      ],
      "metadata": {
        "colab": {
          "base_uri": "https://localhost:8080/"
        },
        "id": "nz8sukxlVY2W",
        "outputId": "8f462733-046b-4b09-845a-a471a293fbd2"
      },
      "execution_count": 10,
      "outputs": [
        {
          "output_type": "stream",
          "name": "stdout",
          "text": [
            "56.548656\n"
          ]
        }
      ]
    },
    {
      "cell_type": "markdown",
      "source": [
        "##13) COMO ESCREVER UMA FUNÇÃO QUE RECEBE UM NÚMERO REAL COMO ARGUMENTO E RETORNE O VALOR ABSOLUTO DESSE NÚMERO?"
      ],
      "metadata": {
        "id": "HSWoRRyRVzE4"
      }
    },
    {
      "cell_type": "markdown",
      "source": [
        "Podemos usar o **abs** também!"
      ],
      "metadata": {
        "id": "ka-ht5VcWOgu"
      }
    },
    {
      "cell_type": "code",
      "source": [
        "def valorabs(n):\n",
        "  if (n<0):\n",
        "    n = n*(-1)\n",
        "    return n\n",
        "  else:\n",
        "    return n"
      ],
      "metadata": {
        "id": "HLcVtYZjV7tP"
      },
      "execution_count": 12,
      "outputs": []
    },
    {
      "cell_type": "code",
      "source": [
        "valorabs(2)"
      ],
      "metadata": {
        "colab": {
          "base_uri": "https://localhost:8080/"
        },
        "id": "y0oS1170WjY9",
        "outputId": "fe8b7958-20b2-40d9-ca0f-45fafcb59ecf"
      },
      "execution_count": 13,
      "outputs": [
        {
          "output_type": "execute_result",
          "data": {
            "text/plain": [
              "2"
            ]
          },
          "metadata": {},
          "execution_count": 13
        }
      ]
    },
    {
      "cell_type": "code",
      "source": [
        "valorabs(-2)"
      ],
      "metadata": {
        "colab": {
          "base_uri": "https://localhost:8080/"
        },
        "id": "yOahSM0vWoDU",
        "outputId": "b74308aa-6450-42b2-eaf5-e2e5c2872f00"
      },
      "execution_count": 14,
      "outputs": [
        {
          "output_type": "execute_result",
          "data": {
            "text/plain": [
              "2"
            ]
          },
          "metadata": {},
          "execution_count": 14
        }
      ]
    },
    {
      "cell_type": "markdown",
      "source": [
        "##14) COMO ESCREVER UMA FUNÇÃO PARA SOMAR TODOS OS NÚMEROS EM UMA LISTA?"
      ],
      "metadata": {
        "id": "RpBoLAr3WvI7"
      }
    },
    {
      "cell_type": "code",
      "source": [
        "lista = [1,2,3]"
      ],
      "metadata": {
        "id": "OheoC2b7XHG3"
      },
      "execution_count": 15,
      "outputs": []
    },
    {
      "cell_type": "code",
      "source": [
        "def soma_lista (lista):\n",
        "  soma = 0\n",
        "  for i in lista:\n",
        "    soma += i\n",
        "  return soma"
      ],
      "metadata": {
        "id": "wYXXTmBCXARQ"
      },
      "execution_count": 16,
      "outputs": []
    },
    {
      "cell_type": "code",
      "source": [
        "soma_lista(lista)"
      ],
      "metadata": {
        "colab": {
          "base_uri": "https://localhost:8080/"
        },
        "id": "ZnFMoy9XXiAo",
        "outputId": "cbdd9455-21fb-4f41-88e8-db9ee81c8892"
      },
      "execution_count": 19,
      "outputs": [
        {
          "output_type": "execute_result",
          "data": {
            "text/plain": [
              "6"
            ]
          },
          "metadata": {},
          "execution_count": 19
        }
      ]
    },
    {
      "cell_type": "markdown",
      "source": [
        "##15) COMO ESCREVER UMA FUNÇÃO PARA VERIFICAR SE UM NÚMERO ESTÁ EM DETERMINADO INTERVALO?"
      ],
      "metadata": {
        "id": "mEVI_mftXyGJ"
      }
    },
    {
      "cell_type": "code",
      "source": [
        "def intervalo (a, b, valor_verificar):\n",
        "  count = 0\n",
        "  for i in range(a, b+1):\n",
        "    if(i == valor_verificar):\n",
        "      count += 1\n",
        "  return count"
      ],
      "metadata": {
        "id": "HmtifyztYFHu"
      },
      "execution_count": 27,
      "outputs": []
    },
    {
      "cell_type": "code",
      "source": [
        "#se 1 é porque o valor está no intervalo, se zero não está\n",
        "intervalo(1, 5, 2)"
      ],
      "metadata": {
        "colab": {
          "base_uri": "https://localhost:8080/"
        },
        "id": "WTbSjf_7YnZ6",
        "outputId": "0c530b52-7559-450a-d23e-80caa7039d9c"
      },
      "execution_count": 28,
      "outputs": [
        {
          "output_type": "execute_result",
          "data": {
            "text/plain": [
              "1"
            ]
          },
          "metadata": {},
          "execution_count": 28
        }
      ]
    },
    {
      "cell_type": "code",
      "source": [
        "intervalo(1, 5, 10)"
      ],
      "metadata": {
        "colab": {
          "base_uri": "https://localhost:8080/"
        },
        "id": "eM9GM7N8Y6Wx",
        "outputId": "d1efc2fe-4eab-4418-a9fb-2b4fb37e5e51"
      },
      "execution_count": 29,
      "outputs": [
        {
          "output_type": "execute_result",
          "data": {
            "text/plain": [
              "0"
            ]
          },
          "metadata": {},
          "execution_count": 29
        }
      ]
    },
    {
      "cell_type": "markdown",
      "source": [
        "##16) COMO ESCREVER UMA FUNÇÃO PARA IMPRIMIR OS NÚMEROS PARES DE UMA LISTA?"
      ],
      "metadata": {
        "id": "6WdvdCL4ZnYc"
      }
    },
    {
      "cell_type": "code",
      "source": [
        "def par_dalista (lista):\n",
        "  lista_par = []\n",
        "  for i in lista:\n",
        "    if (i % 2 == 0):\n",
        "      lista_par.append(i)\n",
        "  return lista_par"
      ],
      "metadata": {
        "id": "UzZdU0bIakRp"
      },
      "execution_count": 32,
      "outputs": []
    },
    {
      "cell_type": "code",
      "source": [
        "lista = [1,2,3,4,5,6]"
      ],
      "metadata": {
        "id": "_DAsz72Ba2F-"
      },
      "execution_count": 33,
      "outputs": []
    },
    {
      "cell_type": "code",
      "source": [
        "par_dalista(lista)"
      ],
      "metadata": {
        "colab": {
          "base_uri": "https://localhost:8080/"
        },
        "id": "V4eDsvQ-bElr",
        "outputId": "47e0e300-b1b6-403d-ea3a-297777ac0548"
      },
      "execution_count": 36,
      "outputs": [
        {
          "output_type": "execute_result",
          "data": {
            "text/plain": [
              "[2, 4, 6]"
            ]
          },
          "metadata": {},
          "execution_count": 36
        }
      ]
    },
    {
      "cell_type": "markdown",
      "source": [
        "##17) COMO ESCREVER UMA FUNÇÃO PARA CRIAR E IMPRIMIR UMA LISTA ONDE OS VALORES SÃO QUADRADOS DE NÚMEROS ENTRE 1 E 30 (ambos incluídos) ?"
      ],
      "metadata": {
        "id": "clI7ZFq0bVsH"
      }
    },
    {
      "cell_type": "code",
      "source": [
        "def lista_quadrado():\n",
        "  lista2 = []\n",
        "  for i in range(1, 31, 1):\n",
        "    lista2.append(i*i)\n",
        "  return lista2"
      ],
      "metadata": {
        "id": "U3w9A56fccpx"
      },
      "execution_count": 37,
      "outputs": []
    },
    {
      "cell_type": "code",
      "source": [
        "lista_quadrado()"
      ],
      "metadata": {
        "colab": {
          "base_uri": "https://localhost:8080/"
        },
        "id": "CtS8-izYct-6",
        "outputId": "73b9b06d-aac6-400f-b3b0-d95b88410fa3"
      },
      "execution_count": 38,
      "outputs": [
        {
          "output_type": "execute_result",
          "data": {
            "text/plain": [
              "[1,\n",
              " 4,\n",
              " 9,\n",
              " 16,\n",
              " 25,\n",
              " 36,\n",
              " 49,\n",
              " 64,\n",
              " 81,\n",
              " 100,\n",
              " 121,\n",
              " 144,\n",
              " 169,\n",
              " 196,\n",
              " 225,\n",
              " 256,\n",
              " 289,\n",
              " 324,\n",
              " 361,\n",
              " 400,\n",
              " 441,\n",
              " 484,\n",
              " 529,\n",
              " 576,\n",
              " 625,\n",
              " 676,\n",
              " 729,\n",
              " 784,\n",
              " 841,\n",
              " 900]"
            ]
          },
          "metadata": {},
          "execution_count": 38
        }
      ]
    },
    {
      "cell_type": "markdown",
      "source": [
        "##18) COMO ESCREVER UMA FUNÇÃO PARA DETECTAR O NÚMERO DE VARIÁVEIS LOCAIS DECLARADAS EM UMA FUNÇÃO?"
      ],
      "metadata": {
        "id": "FL0gXxbHc0J1"
      }
    },
    {
      "cell_type": "code",
      "source": [
        "def testando():\n",
        "  pass"
      ],
      "metadata": {
        "id": "CkKHGuZuc-6H"
      },
      "execution_count": 39,
      "outputs": []
    },
    {
      "cell_type": "code",
      "source": [
        "testando()"
      ],
      "metadata": {
        "id": "6iO4r1SYdsqC"
      },
      "execution_count": 40,
      "outputs": []
    },
    {
      "cell_type": "code",
      "source": [
        "print(testando.__code__.co_nlocals)"
      ],
      "metadata": {
        "colab": {
          "base_uri": "https://localhost:8080/"
        },
        "id": "3G8wjdy_dt7e",
        "outputId": "8216a88b-6fb6-43b6-ddbb-c30d670c0cd6"
      },
      "execution_count": 41,
      "outputs": [
        {
          "output_type": "stream",
          "name": "stdout",
          "text": [
            "0\n"
          ]
        }
      ]
    },
    {
      "cell_type": "code",
      "source": [
        "def testando_novo():\n",
        "  a, b, c = 1, 2, 3\n",
        "  nome = \"Maria\" "
      ],
      "metadata": {
        "id": "xTF6p0RKeJwg"
      },
      "execution_count": 43,
      "outputs": []
    },
    {
      "cell_type": "code",
      "source": [
        "print(testando_novo.__code__.co_nlocals)"
      ],
      "metadata": {
        "colab": {
          "base_uri": "https://localhost:8080/"
        },
        "id": "zwf55VrJeR1s",
        "outputId": "91224f7f-36cc-4710-98d0-0930b182d008"
      },
      "execution_count": 44,
      "outputs": [
        {
          "output_type": "stream",
          "name": "stdout",
          "text": [
            "4\n"
          ]
        }
      ]
    }
  ]
}