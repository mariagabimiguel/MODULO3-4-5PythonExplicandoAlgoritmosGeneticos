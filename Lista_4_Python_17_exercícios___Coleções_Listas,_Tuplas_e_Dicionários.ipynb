{
  "nbformat": 4,
  "nbformat_minor": 0,
  "metadata": {
    "colab": {
      "provenance": []
    },
    "kernelspec": {
      "name": "python3",
      "display_name": "Python 3"
    },
    "language_info": {
      "name": "python"
    }
  },
  "cells": [
    {
      "cell_type": "markdown",
      "source": [
        "#**LISTAS**"
      ],
      "metadata": {
        "id": "sboiaNLKu4yz"
      }
    },
    {
      "cell_type": "markdown",
      "source": [
        "##1) COMO ESCREVER UM PROGRAMA PARA SOMAR TODOS OS ITENS DE UMA LISTA?"
      ],
      "metadata": {
        "id": "u_HltrgJlU7L"
      }
    },
    {
      "cell_type": "code",
      "execution_count": 3,
      "metadata": {
        "id": "pObUEAA2iPmS"
      },
      "outputs": [],
      "source": [
        "lista_de_entrada = [1,2,3,4,5,6,7]\n",
        "#o indice inicial é zero"
      ]
    },
    {
      "cell_type": "code",
      "source": [
        "type(lista_de_entrada)"
      ],
      "metadata": {
        "colab": {
          "base_uri": "https://localhost:8080/"
        },
        "id": "qZs8cAMxlqbu",
        "outputId": "a0b6da57-0e97-48b6-f1a8-87359c0dfb54"
      },
      "execution_count": 2,
      "outputs": [
        {
          "output_type": "execute_result",
          "data": {
            "text/plain": [
              "list"
            ]
          },
          "metadata": {},
          "execution_count": 2
        }
      ]
    },
    {
      "cell_type": "code",
      "source": [
        "soma = 0\n",
        "for i in lista_de_entrada: \n",
        "  soma += i\n",
        "print (f\"A soma é: {soma}\")"
      ],
      "metadata": {
        "colab": {
          "base_uri": "https://localhost:8080/"
        },
        "id": "4L774iRcltAL",
        "outputId": "ce75efea-7142-4379-9c3a-a1914f1d7b97"
      },
      "execution_count": 4,
      "outputs": [
        {
          "output_type": "stream",
          "name": "stdout",
          "text": [
            "A soma é: 28\n"
          ]
        }
      ]
    },
    {
      "cell_type": "markdown",
      "source": [
        "##2) COMO ESCREVER UM PROGRAMA PARA MULTIPLICAR TODOS OS ITENS DE UMA LISTA?"
      ],
      "metadata": {
        "id": "HbjyDhGmmsph"
      }
    },
    {
      "cell_type": "code",
      "source": [
        "multiplica = 1\n",
        "#se iniciar com zero o resultado sempre será zero\n",
        "\n",
        "for i in lista_de_entrada: \n",
        "  multiplica *= i\n",
        "print (f\"A multiplicação é: {multiplica}\")"
      ],
      "metadata": {
        "colab": {
          "base_uri": "https://localhost:8080/"
        },
        "id": "VwHfI1vMnWge",
        "outputId": "aae65df7-4c30-4cd2-dacb-37f416c6d2ea"
      },
      "execution_count": 6,
      "outputs": [
        {
          "output_type": "stream",
          "name": "stdout",
          "text": [
            "A multiplicação é: 5040\n"
          ]
        }
      ]
    },
    {
      "cell_type": "markdown",
      "source": [
        "##3) COMO ESCREVER UM PROGRAMA PARA OBTER O MAIOR NÚMERO DE UMA LISTA?"
      ],
      "metadata": {
        "id": "z0tntO4Ennf_"
      }
    },
    {
      "cell_type": "code",
      "source": [
        "lista = [5, 5, 8, 1, 10, 1]"
      ],
      "metadata": {
        "id": "kGjFF_UDoS-E"
      },
      "execution_count": 12,
      "outputs": []
    },
    {
      "cell_type": "code",
      "source": [
        "maior_valor = max(lista)\n",
        "print (f\"O maior elemento é: {maior_valor}\")"
      ],
      "metadata": {
        "colab": {
          "base_uri": "https://localhost:8080/"
        },
        "id": "GL9FGbFbn8uX",
        "outputId": "cbefcf77-f642-4cfa-c738-9df8727b74d7"
      },
      "execution_count": 13,
      "outputs": [
        {
          "output_type": "stream",
          "name": "stdout",
          "text": [
            "O maior elemento é: 10\n"
          ]
        }
      ]
    },
    {
      "cell_type": "markdown",
      "source": [
        "**Para menor valor: min**"
      ],
      "metadata": {
        "id": "KBU70z-mokPg"
      }
    },
    {
      "cell_type": "markdown",
      "source": [
        "##4) COMO ESCREVER UM PROGRAMA PARA REMOVER DUPLICATAS EM UMA LISTA?"
      ],
      "metadata": {
        "id": "DzjbRQiWoq4U"
      }
    },
    {
      "cell_type": "code",
      "source": [
        "l = [4, 4, 8, 81, 8, 9, 1, 11, 2]"
      ],
      "metadata": {
        "id": "Cf1GTrAgoxZz"
      },
      "execution_count": 14,
      "outputs": []
    },
    {
      "cell_type": "code",
      "source": [
        "#uso de conjuntos para notar que temos essa opção de resolução\n",
        "#set é usado para criar um conjunto e um conjunto não permite ter duplicatas\n",
        "\n",
        "remove_duplicatas = set(l)\n",
        "print (remove_duplicatas)"
      ],
      "metadata": {
        "colab": {
          "base_uri": "https://localhost:8080/"
        },
        "id": "RC5liRGRo_xw",
        "outputId": "13388be7-f134-4a8f-fab2-e2a310934b2b"
      },
      "execution_count": 20,
      "outputs": [
        {
          "output_type": "stream",
          "name": "stdout",
          "text": [
            "{1, 2, 4, 8, 9, 11, 81}\n"
          ]
        }
      ]
    },
    {
      "cell_type": "code",
      "source": [
        "#removeu os duplicados mas deixou de ser lista\n",
        "type(remove_duplicatas)"
      ],
      "metadata": {
        "colab": {
          "base_uri": "https://localhost:8080/"
        },
        "id": "cHG6rJZ-pT2x",
        "outputId": "810e3e5f-808a-49b9-f212-960c6a796c17"
      },
      "execution_count": 21,
      "outputs": [
        {
          "output_type": "execute_result",
          "data": {
            "text/plain": [
              "set"
            ]
          },
          "metadata": {},
          "execution_count": 21
        }
      ]
    },
    {
      "cell_type": "code",
      "source": [
        "#voltar para lista\n",
        "lista_nova = list(remove_duplicatas)\n",
        "print (lista_nova)\n",
        "type(lista_nova)"
      ],
      "metadata": {
        "colab": {
          "base_uri": "https://localhost:8080/"
        },
        "id": "hesSp5HppXJX",
        "outputId": "cac17378-cf7e-4efb-fb83-869db24192c0"
      },
      "execution_count": 23,
      "outputs": [
        {
          "output_type": "stream",
          "name": "stdout",
          "text": [
            "[1, 2, 4, 8, 9, 11, 81]\n"
          ]
        },
        {
          "output_type": "execute_result",
          "data": {
            "text/plain": [
              "list"
            ]
          },
          "metadata": {},
          "execution_count": 23
        }
      ]
    },
    {
      "cell_type": "markdown",
      "source": [
        "##5) COMO ESCREVER UM PROGRAMA PARA COPIAR UMA LISTA PARA OUTRA?"
      ],
      "metadata": {
        "id": "oywRoE-up7ig"
      }
    },
    {
      "cell_type": "code",
      "source": [
        "#comando copy\n",
        "lista_para_estudar = [ 'biologia', 'matematica', 'geografia']"
      ],
      "metadata": {
        "id": "LCDJLOJwqArp"
      },
      "execution_count": 25,
      "outputs": []
    },
    {
      "cell_type": "code",
      "source": [
        "lista_para_estudar_hoje = lista_para_estudar.copy()\n",
        "print (lista_para_estudar_hoje)"
      ],
      "metadata": {
        "colab": {
          "base_uri": "https://localhost:8080/"
        },
        "id": "jsrN-CyRrVTl",
        "outputId": "f78c7742-291a-4205-e7ef-f1ba873542f2"
      },
      "execution_count": 27,
      "outputs": [
        {
          "output_type": "stream",
          "name": "stdout",
          "text": [
            "['biologia', 'matematica', 'geografia']\n"
          ]
        }
      ]
    },
    {
      "cell_type": "markdown",
      "source": [
        "**Comando .pop: se nenhum parâmetro for passado, removerá o último elemento da lista**\n",
        "\n",
        "**Comando .extend: junta duas listas, como uma soma de listas**\n",
        "\n",
        "**Comando .index(\"o que quer o indice\"): para descobrir o indice de um elemento da lista**"
      ],
      "metadata": {
        "id": "tY7s5TZxsAcH"
      }
    },
    {
      "cell_type": "markdown",
      "source": [
        "##6) COMO RECEBER DUAS LISTAS E RETORNAR TRUE SE ELAS TIVEREM PELO MENOS UM ELEMENTO EM COMUM?"
      ],
      "metadata": {
        "id": "GAiwW0HttPdQ"
      }
    },
    {
      "cell_type": "code",
      "source": [
        "lista1 = [1,2,3]\n",
        "lista2 = [1,3,4]"
      ],
      "metadata": {
        "id": "M44cgCEwtaQl"
      },
      "execution_count": 28,
      "outputs": []
    },
    {
      "cell_type": "code",
      "source": [
        "lista1_conjunto = set(lista1)"
      ],
      "metadata": {
        "id": "aSVIp3-FtvzF"
      },
      "execution_count": 29,
      "outputs": []
    },
    {
      "cell_type": "code",
      "source": [
        "#para usar esse método é necessário transformar pelo menos uma lista em conjunto\n",
        "intersecao = lista1_conjunto.intersection(lista2)\n",
        "print(intersecao)"
      ],
      "metadata": {
        "colab": {
          "base_uri": "https://localhost:8080/"
        },
        "id": "_xdrijk-t2OB",
        "outputId": "36603425-22e5-452c-f8f8-0273d26d3778"
      },
      "execution_count": 33,
      "outputs": [
        {
          "output_type": "stream",
          "name": "stdout",
          "text": [
            "{1, 3}\n"
          ]
        }
      ]
    },
    {
      "cell_type": "code",
      "source": [
        "if (lista1_conjunto.intersection(lista2)):\n",
        "  print ('True')\n",
        "else:\n",
        "  print ('False')"
      ],
      "metadata": {
        "colab": {
          "base_uri": "https://localhost:8080/"
        },
        "id": "HtIZWu4jucKg",
        "outputId": "97b07508-0d44-42b1-98a1-b19a9bdda97f"
      },
      "execution_count": 35,
      "outputs": [
        {
          "output_type": "stream",
          "name": "stdout",
          "text": [
            "True\n"
          ]
        }
      ]
    },
    {
      "cell_type": "markdown",
      "source": [
        "#**TUPLAS**"
      ],
      "metadata": {
        "id": "uC4n0YoOvDnQ"
      }
    },
    {
      "cell_type": "markdown",
      "source": [
        "##7) COMO ESCREVER UM PROGRAMA PARA CRIAR UMA TUPLA?"
      ],
      "metadata": {
        "id": "K-dmU645vIcQ"
      }
    },
    {
      "cell_type": "markdown",
      "source": [
        "**As tuplas são imutáveis!**\n",
        "Ex.: lista com meses do ano, não podem ser mudadas.\n"
      ],
      "metadata": {
        "id": "Ioe0197Uw4rG"
      }
    },
    {
      "cell_type": "code",
      "source": [
        "tupla = (1,2,3,'Maria')"
      ],
      "metadata": {
        "id": "BjM6ITrwvF4l"
      },
      "execution_count": 43,
      "outputs": []
    },
    {
      "cell_type": "code",
      "source": [
        "type(tupla)"
      ],
      "metadata": {
        "colab": {
          "base_uri": "https://localhost:8080/"
        },
        "id": "M80TyJOxww7W",
        "outputId": "a6b6ef23-348a-45dc-dcd5-60c2b15e898e"
      },
      "execution_count": 44,
      "outputs": [
        {
          "output_type": "execute_result",
          "data": {
            "text/plain": [
              "tuple"
            ]
          },
          "metadata": {},
          "execution_count": 44
        }
      ]
    },
    {
      "cell_type": "code",
      "source": [
        "type(())"
      ],
      "metadata": {
        "colab": {
          "base_uri": "https://localhost:8080/"
        },
        "id": "cMLHIuRzwyCG",
        "outputId": "339c247a-e73c-4655-fe2c-8e7b4ff68017"
      },
      "execution_count": 45,
      "outputs": [
        {
          "output_type": "execute_result",
          "data": {
            "text/plain": [
              "tuple"
            ]
          },
          "metadata": {},
          "execution_count": 45
        }
      ]
    },
    {
      "cell_type": "code",
      "source": [
        "tupla2 = tuple(range(11))\n",
        "print (tupla2)"
      ],
      "metadata": {
        "colab": {
          "base_uri": "https://localhost:8080/"
        },
        "id": "Auu0MXUJyHkU",
        "outputId": "d82e94ab-9cd6-4440-f88d-5dbd03ca1915"
      },
      "execution_count": 40,
      "outputs": [
        {
          "output_type": "stream",
          "name": "stdout",
          "text": [
            "(0, 1, 2, 3, 4, 5, 6, 7, 8, 9, 10)\n"
          ]
        }
      ]
    },
    {
      "cell_type": "code",
      "source": [
        "#tamanho da tupla\n",
        "len(tupla2)"
      ],
      "metadata": {
        "colab": {
          "base_uri": "https://localhost:8080/"
        },
        "id": "qHOuuFKeyZ92",
        "outputId": "b12c891d-b842-4b3b-bc96-a3c38c3a64de"
      },
      "execution_count": 42,
      "outputs": [
        {
          "output_type": "execute_result",
          "data": {
            "text/plain": [
              "11"
            ]
          },
          "metadata": {},
          "execution_count": 42
        }
      ]
    },
    {
      "cell_type": "markdown",
      "source": [
        "##8) COMO CRIAR UMA TUPLA COM NÚMEROS E IMPRIMIR UM ITEM?"
      ],
      "metadata": {
        "id": "FpKkkrh6ykLB"
      }
    },
    {
      "cell_type": "code",
      "source": [
        "tupla_numeros = (1,8,9,6,8)"
      ],
      "metadata": {
        "id": "OPzDhsMHz0TC"
      },
      "execution_count": 58,
      "outputs": []
    },
    {
      "cell_type": "code",
      "source": [
        "type(tupla_numeros)"
      ],
      "metadata": {
        "colab": {
          "base_uri": "https://localhost:8080/"
        },
        "id": "N4LPP8CA0dz-",
        "outputId": "b23be80b-f91b-456b-c49c-38cf3a6be8d0"
      },
      "execution_count": 59,
      "outputs": [
        {
          "output_type": "execute_result",
          "data": {
            "text/plain": [
              "tuple"
            ]
          },
          "metadata": {},
          "execution_count": 59
        }
      ]
    },
    {
      "cell_type": "code",
      "source": [
        "#imprimir o terceiro numero da tupla\n",
        "tupla_numeros[2]"
      ],
      "metadata": {
        "colab": {
          "base_uri": "https://localhost:8080/"
        },
        "id": "R8Av_M1e0LBy",
        "outputId": "f5d82a13-3462-4da7-b70c-61e547a5953a"
      },
      "execution_count": 63,
      "outputs": [
        {
          "output_type": "execute_result",
          "data": {
            "text/plain": [
              "9"
            ]
          },
          "metadata": {},
          "execution_count": 63
        }
      ]
    },
    {
      "cell_type": "markdown",
      "source": [
        "##9) COMO ADICIONAR UM ELEMENTO EM UMA TUPLA?"
      ],
      "metadata": {
        "id": "qWi9cdxX1f0x"
      }
    },
    {
      "cell_type": "code",
      "source": [
        "tupla_para_add = (10, 20, 30)"
      ],
      "metadata": {
        "id": "bhd53emw16rv"
      },
      "execution_count": 64,
      "outputs": []
    },
    {
      "cell_type": "code",
      "source": [
        "tupla_para_add = tupla_para_add + (40, )"
      ],
      "metadata": {
        "id": "jqBEyYwV2DLp"
      },
      "execution_count": 65,
      "outputs": []
    },
    {
      "cell_type": "code",
      "source": [
        "print(tupla_para_add)"
      ],
      "metadata": {
        "colab": {
          "base_uri": "https://localhost:8080/"
        },
        "id": "Z2t5FyVG2Kbg",
        "outputId": "bd78b8b5-957f-4ad0-9dcc-65f42f2b1df9"
      },
      "execution_count": 67,
      "outputs": [
        {
          "output_type": "stream",
          "name": "stdout",
          "text": [
            "(10, 20, 30, 40)\n"
          ]
        }
      ]
    },
    {
      "cell_type": "markdown",
      "source": [
        "##10) COMO OBTER O 4º ELEMENTO E O ÚLTIMO DE UMA TUPLA?"
      ],
      "metadata": {
        "id": "akgXGgJO2Rer"
      }
    },
    {
      "cell_type": "code",
      "source": [
        "tupla_nova = (10, 20, 30, 40,'Maria', [1,2,3])"
      ],
      "metadata": {
        "id": "DqnQVhxs2oEB"
      },
      "execution_count": 68,
      "outputs": []
    },
    {
      "cell_type": "code",
      "source": [
        "type(tupla_nova)"
      ],
      "metadata": {
        "colab": {
          "base_uri": "https://localhost:8080/"
        },
        "id": "hKZUS75T2xN0",
        "outputId": "f5be3a4b-36dc-41b9-9429-f8a36906ee1c"
      },
      "execution_count": 69,
      "outputs": [
        {
          "output_type": "execute_result",
          "data": {
            "text/plain": [
              "tuple"
            ]
          },
          "metadata": {},
          "execution_count": 69
        }
      ]
    },
    {
      "cell_type": "code",
      "source": [
        "tupla_nova[4]"
      ],
      "metadata": {
        "colab": {
          "base_uri": "https://localhost:8080/",
          "height": 35
        },
        "id": "8x1EFlRl2zA6",
        "outputId": "735bc2ad-440e-4324-ac98-66e73591d902"
      },
      "execution_count": 70,
      "outputs": [
        {
          "output_type": "execute_result",
          "data": {
            "text/plain": [
              "'Maria'"
            ],
            "application/vnd.google.colaboratory.intrinsic+json": {
              "type": "string"
            }
          },
          "metadata": {},
          "execution_count": 70
        }
      ]
    },
    {
      "cell_type": "code",
      "source": [
        "#para acessar um elemento dentro de uma lista da tupla\n",
        "tupla_nova[5][0]"
      ],
      "metadata": {
        "colab": {
          "base_uri": "https://localhost:8080/"
        },
        "id": "hVvXFp1e24j3",
        "outputId": "1aef4d59-d910-42e2-dcaa-6a094e976668"
      },
      "execution_count": 71,
      "outputs": [
        {
          "output_type": "execute_result",
          "data": {
            "text/plain": [
              "1"
            ]
          },
          "metadata": {},
          "execution_count": 71
        }
      ]
    },
    {
      "cell_type": "code",
      "source": [
        "#para acessar o último\n",
        "tamanho_tupla = len(tupla_nova)\n",
        "print(tamanho_tupla)"
      ],
      "metadata": {
        "colab": {
          "base_uri": "https://localhost:8080/"
        },
        "id": "yQwfWzwT3Lpt",
        "outputId": "2e8292ec-5294-411a-9fac-5dec7f8c28eb"
      },
      "execution_count": 73,
      "outputs": [
        {
          "output_type": "stream",
          "name": "stdout",
          "text": [
            "6\n"
          ]
        }
      ]
    },
    {
      "cell_type": "code",
      "source": [
        "#considerando o index para encontrar a posição do último\n",
        "tamanho_tupla = len(tupla_nova) - 1\n",
        "print(tamanho_tupla)"
      ],
      "metadata": {
        "colab": {
          "base_uri": "https://localhost:8080/"
        },
        "id": "Z8V2tKYL3UhA",
        "outputId": "58aea7fb-ba09-4042-968b-96e302d2e07a"
      },
      "execution_count": 74,
      "outputs": [
        {
          "output_type": "stream",
          "name": "stdout",
          "text": [
            "5\n"
          ]
        }
      ]
    },
    {
      "cell_type": "code",
      "source": [
        "#ultimo valor da tupla\n",
        "print(tupla_nova[tamanho_tupla])"
      ],
      "metadata": {
        "colab": {
          "base_uri": "https://localhost:8080/"
        },
        "id": "Ub2x8W-_3sI6",
        "outputId": "dbf2e1bd-60af-4c86-b10a-31a9420a7270"
      },
      "execution_count": 77,
      "outputs": [
        {
          "output_type": "stream",
          "name": "stdout",
          "text": [
            "[1, 2, 3]\n"
          ]
        }
      ]
    },
    {
      "cell_type": "markdown",
      "source": [
        "##11) COMO VERIFICAR SE HÁ ITENS REPETIDOS EM UMA TUPLA?"
      ],
      "metadata": {
        "id": "YoKpVoaM4PNG"
      }
    },
    {
      "cell_type": "code",
      "source": [
        "tupla_original = (9, 9, 1, 88, 2, 88, 3)"
      ],
      "metadata": {
        "id": "UT9vr2t54SUy"
      },
      "execution_count": 78,
      "outputs": []
    },
    {
      "cell_type": "code",
      "source": [
        "tupla_para_set = set(tupla_original)\n",
        "print(tupla_para_set)"
      ],
      "metadata": {
        "colab": {
          "base_uri": "https://localhost:8080/"
        },
        "id": "wQr2kOrt4iKO",
        "outputId": "c075a6f3-0855-427f-8277-d81769679eb7"
      },
      "execution_count": 80,
      "outputs": [
        {
          "output_type": "stream",
          "name": "stdout",
          "text": [
            "{1, 2, 3, 9, 88}\n"
          ]
        }
      ]
    },
    {
      "cell_type": "code",
      "source": [
        "print(len(tupla_original))\n",
        "print(len(tupla_para_set))"
      ],
      "metadata": {
        "colab": {
          "base_uri": "https://localhost:8080/"
        },
        "id": "xOJc3Rwf45-9",
        "outputId": "4c85735f-e130-47e4-dc37-30724ae17940"
      },
      "execution_count": 81,
      "outputs": [
        {
          "output_type": "stream",
          "name": "stdout",
          "text": [
            "7\n",
            "5\n"
          ]
        }
      ]
    },
    {
      "cell_type": "code",
      "source": [
        "#como o tamanho diminuiu é porque foram removidos valores que são repetidos, já que o set não permite duplicatas\n",
        "if (len(tupla_original) != len(tupla_para_set)):\n",
        "  print(\"Existem elementos repetidos\")\n",
        "else:\n",
        "  print(\"Não há repetidos\")"
      ],
      "metadata": {
        "colab": {
          "base_uri": "https://localhost:8080/"
        },
        "id": "A4CuyU8H4mUg",
        "outputId": "90cbb72c-f41c-4069-b689-f7754ad2c524"
      },
      "execution_count": 83,
      "outputs": [
        {
          "output_type": "stream",
          "name": "stdout",
          "text": [
            "Existem elementos repetidos\n"
          ]
        }
      ]
    },
    {
      "cell_type": "markdown",
      "source": [
        "#**DICIONÁRIOS**"
      ],
      "metadata": {
        "id": "UDl5OYyQ5xtk"
      }
    },
    {
      "cell_type": "markdown",
      "source": [
        "##12) COMO ESCREVER UM PROGRAMA PARA ADICIONAR UMA CHAVE A UM DICIONÁRIO?"
      ],
      "metadata": {
        "id": "sCth9Ag_5p0f"
      }
    },
    {
      "cell_type": "code",
      "source": [
        "estados = {\"Minas Gerais\": 35, \"São Paulo\": 11}"
      ],
      "metadata": {
        "id": "g4Om2FC45xPM"
      },
      "execution_count": 85,
      "outputs": []
    },
    {
      "cell_type": "code",
      "source": [
        "type(estados)"
      ],
      "metadata": {
        "colab": {
          "base_uri": "https://localhost:8080/"
        },
        "id": "rucp6FgK7SVt",
        "outputId": "2690ea0e-d5d2-46cc-c1a4-e93505a6ffb3"
      },
      "execution_count": 86,
      "outputs": [
        {
          "output_type": "execute_result",
          "data": {
            "text/plain": [
              "dict"
            ]
          },
          "metadata": {},
          "execution_count": 86
        }
      ]
    },
    {
      "cell_type": "code",
      "source": [
        "estados.update({\"Rio de Janeiro\": 21})"
      ],
      "metadata": {
        "id": "1Zb9nt1t7Xxu"
      },
      "execution_count": 90,
      "outputs": []
    },
    {
      "cell_type": "code",
      "source": [
        "print(estados)"
      ],
      "metadata": {
        "colab": {
          "base_uri": "https://localhost:8080/"
        },
        "id": "-l3V86WE7ikl",
        "outputId": "5a9b7251-b2d6-4d54-fdc0-12873566e080"
      },
      "execution_count": 91,
      "outputs": [
        {
          "output_type": "stream",
          "name": "stdout",
          "text": [
            "{'Minas Gerais': 35, 'São Paulo': 11, 'Rio de Janeiro': 21}\n"
          ]
        }
      ]
    },
    {
      "cell_type": "markdown",
      "source": [
        "##13) COMO CRIAR DOIS DICIONÁRIOS DIFERENTES E FAZER A CONCATENAÇÃO PARA CRIAR UM NOVO?"
      ],
      "metadata": {
        "id": "C3KNu1b17xVL"
      }
    },
    {
      "cell_type": "code",
      "source": [
        "dicionario1 = {'Água': 1.0, \"Suco\": 2.0}\n",
        "dicionario2 = {'Bolacha': 2.0, 'Chocolate': 4.0}"
      ],
      "metadata": {
        "id": "lz3TExaa76VU"
      },
      "execution_count": 93,
      "outputs": []
    },
    {
      "cell_type": "code",
      "source": [
        "dicionario1.update(dicionario2)\n",
        "print(dicionario1)"
      ],
      "metadata": {
        "colab": {
          "base_uri": "https://localhost:8080/"
        },
        "id": "dUYhJOzK8USF",
        "outputId": "fcecbec4-2f0f-48b3-ee05-46a277fc94a4"
      },
      "execution_count": 94,
      "outputs": [
        {
          "output_type": "stream",
          "name": "stdout",
          "text": [
            "{'Água': 1.0, 'Suco': 2.0, 'Bolacha': 2.0, 'Chocolate': 4.0}\n"
          ]
        }
      ]
    },
    {
      "cell_type": "markdown",
      "source": [
        "##14) COMO VERIFICAR SE UMA DETERMINADA CHAVE JÁ EXISTE EM UM DICIONÁRIO?"
      ],
      "metadata": {
        "id": "uO1kSu-x816d"
      }
    },
    {
      "cell_type": "code",
      "source": [
        "d = {1:10, 2:20, 3:30}"
      ],
      "metadata": {
        "id": "4DuIEMM69A9w"
      },
      "execution_count": 98,
      "outputs": []
    },
    {
      "cell_type": "code",
      "source": [
        "#chave é o 1 e o valor da chave é 10\n",
        "print(d)"
      ],
      "metadata": {
        "colab": {
          "base_uri": "https://localhost:8080/"
        },
        "id": "CkPs4OSd9L1V",
        "outputId": "f83294af-386e-43e5-a3ea-a933119a7902"
      },
      "execution_count": 101,
      "outputs": [
        {
          "output_type": "stream",
          "name": "stdout",
          "text": [
            "{1: 10, 2: 20, 3: 30}\n"
          ]
        }
      ]
    },
    {
      "cell_type": "code",
      "source": [
        "valor = int(input(\"Digite a chave para verificacao: \"))"
      ],
      "metadata": {
        "colab": {
          "base_uri": "https://localhost:8080/"
        },
        "id": "U4R9iDF89Ncu",
        "outputId": "bcbd8147-442c-4ac8-c27a-c8f5d61d2a04"
      },
      "execution_count": 109,
      "outputs": [
        {
          "name": "stdout",
          "output_type": "stream",
          "text": [
            "Digite a chave para verificacao: 2\n"
          ]
        }
      ]
    },
    {
      "cell_type": "code",
      "source": [
        "if valor in d:\n",
        "  print(\"Está no dicionario\")\n",
        "else:\n",
        "  print(\"Não está no dicionario\")"
      ],
      "metadata": {
        "colab": {
          "base_uri": "https://localhost:8080/"
        },
        "id": "5g6L7thk9Z0U",
        "outputId": "e7150bab-fff6-4cc3-e106-2e594e3ea769"
      },
      "execution_count": 111,
      "outputs": [
        {
          "output_type": "stream",
          "name": "stdout",
          "text": [
            "Está no dicionario\n"
          ]
        }
      ]
    },
    {
      "cell_type": "markdown",
      "source": [
        "##15) COMO ESCREVER UM PROGRAMA PARA ITERAR SOBRE DICIONÁRIOS USANDO LOOPS FOR?"
      ],
      "metadata": {
        "id": "3nfQHLdz9-tm"
      }
    },
    {
      "cell_type": "code",
      "source": [
        "dict1 = {\"Nome\": 'Maria', \"Idade\": 27}"
      ],
      "metadata": {
        "id": "-bN1aufx-E-M"
      },
      "execution_count": 112,
      "outputs": []
    },
    {
      "cell_type": "code",
      "source": [
        "for i in dict1:\n",
        "  print(i)"
      ],
      "metadata": {
        "colab": {
          "base_uri": "https://localhost:8080/"
        },
        "id": "zNGwX-k7-Yy_",
        "outputId": "ba9cdeb8-2ad8-4a0d-c80e-ef3536d035cf"
      },
      "execution_count": 113,
      "outputs": [
        {
          "output_type": "stream",
          "name": "stdout",
          "text": [
            "Nome\n",
            "Idade\n"
          ]
        }
      ]
    },
    {
      "cell_type": "code",
      "source": [
        "for i in dict1:\n",
        "  print(f\"{i}: {dict1[i]}\")"
      ],
      "metadata": {
        "colab": {
          "base_uri": "https://localhost:8080/"
        },
        "id": "-FCZdt0n-eAj",
        "outputId": "9c50869e-0b9d-4488-eead-e2ec0c5911e7"
      },
      "execution_count": 116,
      "outputs": [
        {
          "output_type": "stream",
          "name": "stdout",
          "text": [
            "Nome: Maria\n",
            "Idade: 27\n"
          ]
        }
      ]
    },
    {
      "cell_type": "markdown",
      "source": [
        "##16) COMO MULTIPLICAR TODOS OS ITENS DE UM DICIONÁRIO?"
      ],
      "metadata": {
        "id": "FJQJslx8-x8b"
      }
    },
    {
      "cell_type": "code",
      "source": [
        "d_multiplicar = {\"A\": 2, \"B\": 4, \"C\": 6}"
      ],
      "metadata": {
        "id": "BebAefKb-92W"
      },
      "execution_count": 117,
      "outputs": []
    },
    {
      "cell_type": "code",
      "source": [
        "for i in d_multiplicar:\n",
        "  print(i)"
      ],
      "metadata": {
        "colab": {
          "base_uri": "https://localhost:8080/"
        },
        "id": "BGADgpln_GN_",
        "outputId": "55d28036-edad-4e6f-ca7c-b4c9cf4f34f1"
      },
      "execution_count": 118,
      "outputs": [
        {
          "output_type": "stream",
          "name": "stdout",
          "text": [
            "A\n",
            "B\n",
            "C\n"
          ]
        }
      ]
    },
    {
      "cell_type": "code",
      "source": [
        "#preciso acessar os valores e não as chaves\n",
        "for i in d_multiplicar:\n",
        "  print(d_multiplicar[i])"
      ],
      "metadata": {
        "colab": {
          "base_uri": "https://localhost:8080/"
        },
        "id": "1VeZtJ9-_LNr",
        "outputId": "942f2000-39e8-4293-ab8f-23b57068c23d"
      },
      "execution_count": 119,
      "outputs": [
        {
          "output_type": "stream",
          "name": "stdout",
          "text": [
            "2\n",
            "4\n",
            "6\n"
          ]
        }
      ]
    },
    {
      "cell_type": "code",
      "source": [
        "mult = 1\n",
        "for i in d_multiplicar:\n",
        "  print(d_multiplicar[i])\n",
        "  mult *= d_multiplicar[i]\n",
        "print(mult)"
      ],
      "metadata": {
        "colab": {
          "base_uri": "https://localhost:8080/"
        },
        "id": "coVDUvqy_Wfx",
        "outputId": "4acb3c6a-1c8b-4847-faf8-8c4b314266da"
      },
      "execution_count": 120,
      "outputs": [
        {
          "output_type": "stream",
          "name": "stdout",
          "text": [
            "2\n",
            "4\n",
            "6\n",
            "48\n"
          ]
        }
      ]
    },
    {
      "cell_type": "markdown",
      "source": [
        "##17) COMO REMOVER UMA CHAVE DE UM DICIONÁRIO?"
      ],
      "metadata": {
        "id": "elcgvcbX_rx9"
      }
    },
    {
      "cell_type": "code",
      "source": [
        "d_para_remover = {\"A\": 2, \"B\": 4, \"C\": 6}"
      ],
      "metadata": {
        "id": "PJF1phuZ_3tM"
      },
      "execution_count": 121,
      "outputs": []
    },
    {
      "cell_type": "code",
      "source": [
        "for i in d_para_remover:\n",
        "  print(i)"
      ],
      "metadata": {
        "colab": {
          "base_uri": "https://localhost:8080/"
        },
        "id": "XWEjUvS4_-Re",
        "outputId": "dfec5237-c332-432b-cbc4-fd743fcc281c"
      },
      "execution_count": 123,
      "outputs": [
        {
          "output_type": "stream",
          "name": "stdout",
          "text": [
            "A\n",
            "B\n",
            "C\n"
          ]
        }
      ]
    },
    {
      "cell_type": "code",
      "source": [
        "d_para_remover.pop(\"C\", None)"
      ],
      "metadata": {
        "colab": {
          "base_uri": "https://localhost:8080/"
        },
        "id": "xYGAH-eAAIo6",
        "outputId": "0baeb2d6-60ec-4d7c-dc38-07a320e09462"
      },
      "execution_count": 125,
      "outputs": [
        {
          "output_type": "execute_result",
          "data": {
            "text/plain": [
              "6"
            ]
          },
          "metadata": {},
          "execution_count": 125
        }
      ]
    },
    {
      "cell_type": "code",
      "source": [
        "print(d_para_remover)"
      ],
      "metadata": {
        "colab": {
          "base_uri": "https://localhost:8080/"
        },
        "id": "9YJA-9S5AVI6",
        "outputId": "44d4b12a-b7fe-40ae-9001-c882753d36a1"
      },
      "execution_count": 126,
      "outputs": [
        {
          "output_type": "stream",
          "name": "stdout",
          "text": [
            "{'A': 2, 'B': 4}\n"
          ]
        }
      ]
    },
    {
      "cell_type": "code",
      "source": [
        "#outra forma é usar del\n",
        "del d_para_remover[\"B\"]"
      ],
      "metadata": {
        "id": "melJ8JFFAcci"
      },
      "execution_count": 127,
      "outputs": []
    },
    {
      "cell_type": "code",
      "source": [
        "print(d_para_remover)"
      ],
      "metadata": {
        "colab": {
          "base_uri": "https://localhost:8080/"
        },
        "id": "YV4JS3UNAhUr",
        "outputId": "34412029-600c-468c-fdf5-b8fd4cc6e03c"
      },
      "execution_count": 128,
      "outputs": [
        {
          "output_type": "stream",
          "name": "stdout",
          "text": [
            "{'A': 2}\n"
          ]
        }
      ]
    }
  ]
}