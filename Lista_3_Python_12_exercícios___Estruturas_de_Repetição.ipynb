{
  "nbformat": 4,
  "nbformat_minor": 0,
  "metadata": {
    "colab": {
      "provenance": []
    },
    "kernelspec": {
      "name": "python3",
      "display_name": "Python 3"
    },
    "language_info": {
      "name": "python"
    }
  },
  "cells": [
    {
      "cell_type": "markdown",
      "source": [
        "##1) COMO LER UM NÚMERO INTEIRO E IMPRIMIR ATÉ O VALOR ZERO?"
      ],
      "metadata": {
        "id": "7l8S2YltOawS"
      }
    },
    {
      "cell_type": "code",
      "source": [
        "numero = int (input(\"Digite um numero: \"))"
      ],
      "metadata": {
        "colab": {
          "base_uri": "https://localhost:8080/"
        },
        "id": "PSPIx3PuOfXF",
        "outputId": "c848a7ad-c33e-42dc-fcee-b802b96848e9"
      },
      "execution_count": 14,
      "outputs": [
        {
          "name": "stdout",
          "output_type": "stream",
          "text": [
            "Digite um numero: 20\n"
          ]
        }
      ]
    },
    {
      "cell_type": "code",
      "source": [
        "while (numero > 0):\n",
        "  numero = numero - 1\n",
        "  print (numero)"
      ],
      "metadata": {
        "colab": {
          "base_uri": "https://localhost:8080/"
        },
        "id": "mAGF32pdRdJZ",
        "outputId": "26d49cce-b101-48b3-8304-cfbf11aa0b7c"
      },
      "execution_count": 15,
      "outputs": [
        {
          "output_type": "stream",
          "name": "stdout",
          "text": [
            "19\n",
            "18\n",
            "17\n",
            "16\n",
            "15\n",
            "14\n",
            "13\n",
            "12\n",
            "11\n",
            "10\n",
            "9\n",
            "8\n",
            "7\n",
            "6\n",
            "5\n",
            "4\n",
            "3\n",
            "2\n",
            "1\n",
            "0\n"
          ]
        }
      ]
    },
    {
      "cell_type": "markdown",
      "source": [
        "##2) COMO FAZER UM PROGRAMA PARA CONTAR E IMPRIMIR A QUANTIDADE DE NÚMEROS PARES DE 100 ATÉ 200, INCLUINDO-OS?"
      ],
      "metadata": {
        "id": "hDDU3iHWSGaH"
      }
    },
    {
      "cell_type": "code",
      "source": [
        "numero_inicial = 100\n",
        "numero_final = 200\n",
        "\n",
        "while (numero_inicial <= numero_final):\n",
        "   if (numero_inicial % 2 == 0):\n",
        "     print (numero_inicial)\n",
        "   numero_inicial += 1"
      ],
      "metadata": {
        "colab": {
          "base_uri": "https://localhost:8080/"
        },
        "id": "hGS_gNeySIER",
        "outputId": "9d4474d1-336b-4e8f-face-92209596bc93"
      },
      "execution_count": 19,
      "outputs": [
        {
          "output_type": "stream",
          "name": "stdout",
          "text": [
            "100\n",
            "102\n",
            "104\n",
            "106\n",
            "108\n",
            "110\n",
            "112\n",
            "114\n",
            "116\n",
            "118\n",
            "120\n",
            "122\n",
            "124\n",
            "126\n",
            "128\n",
            "130\n",
            "132\n",
            "134\n",
            "136\n",
            "138\n",
            "140\n",
            "142\n",
            "144\n",
            "146\n",
            "148\n",
            "150\n",
            "152\n",
            "154\n",
            "156\n",
            "158\n",
            "160\n",
            "162\n",
            "164\n",
            "166\n",
            "168\n",
            "170\n",
            "172\n",
            "174\n",
            "176\n",
            "178\n",
            "180\n",
            "182\n",
            "184\n",
            "186\n",
            "188\n",
            "190\n",
            "192\n",
            "194\n",
            "196\n",
            "198\n",
            "200\n"
          ]
        }
      ]
    },
    {
      "cell_type": "markdown",
      "source": [
        "##3) COMO FAZER UM PROGRAMA QUE IMPRIME A SOMA DE TODOS OS NÚMEROS PARES ENTRE DOIS NÚMEROS QUAISQUER, INCLUINDO - OS?"
      ],
      "metadata": {
        "id": "-RkxRwpYYqOX"
      }
    },
    {
      "cell_type": "code",
      "source": [
        "primeiro_numero = int(input(\"Digite o primeiro numero: \"))\n",
        "segundo_numero = int(input(\"Digite o segundo numero: \"))"
      ],
      "metadata": {
        "colab": {
          "base_uri": "https://localhost:8080/"
        },
        "id": "DBCuwP-DYqHb",
        "outputId": "910a5dc0-4945-4374-f549-739bdb02007c"
      },
      "execution_count": 21,
      "outputs": [
        {
          "name": "stdout",
          "output_type": "stream",
          "text": [
            "Digite o primeiro numero: 10\n",
            "Digite o segundo numero: 20\n"
          ]
        }
      ]
    },
    {
      "cell_type": "code",
      "source": [
        "soma = 0\n",
        "for i in range(primeiro_numero, segundo_numero+1, 1):\n",
        "  if (i%2 == 0):\n",
        "    print(i)\n",
        "    soma += i\n",
        "print(f\"A soma dos números pares é: {soma}\")"
      ],
      "metadata": {
        "colab": {
          "base_uri": "https://localhost:8080/"
        },
        "id": "jpSzA_-5Zoc4",
        "outputId": "34ee4a63-a0a9-451b-e97d-cf71f82f45d0"
      },
      "execution_count": 33,
      "outputs": [
        {
          "output_type": "stream",
          "name": "stdout",
          "text": [
            "10\n",
            "12\n",
            "14\n",
            "16\n",
            "18\n",
            "20\n",
            "A soma dos números pares é: 90\n"
          ]
        }
      ]
    },
    {
      "cell_type": "markdown",
      "source": [
        "##4) COMO CALCULAR O FATORIAL DE UM NÚMERO?"
      ],
      "metadata": {
        "id": "Y-OUa32sbKMo"
      }
    },
    {
      "cell_type": "markdown",
      "source": [
        "**USANDO WHILE**"
      ],
      "metadata": {
        "id": "MQcPKqb6eQwr"
      }
    },
    {
      "cell_type": "code",
      "source": [
        "n = int(input(\"Digite um numero inteiro não negativo: \"))"
      ],
      "metadata": {
        "colab": {
          "base_uri": "https://localhost:8080/"
        },
        "id": "mHvA2PwCbRsd",
        "outputId": "1208f754-596e-4087-cac8-8bff34b4d19a"
      },
      "execution_count": 43,
      "outputs": [
        {
          "name": "stdout",
          "output_type": "stream",
          "text": [
            "Digite um numero inteiro não negativo: 6\n"
          ]
        }
      ]
    },
    {
      "cell_type": "code",
      "source": [
        "#para fatorial precisamos controlar até 1\n",
        "i = 1\n",
        "controle_fat = 1"
      ],
      "metadata": {
        "id": "bmN3XfHpb2Av"
      },
      "execution_count": 44,
      "outputs": []
    },
    {
      "cell_type": "code",
      "source": [
        "while (i <= n):\n",
        "  controle_fat = controle_fat * i\n",
        "  i = i + 1\n",
        "print (f\"O fatorial do valor é {controle_fat}\")\n"
      ],
      "metadata": {
        "colab": {
          "base_uri": "https://localhost:8080/"
        },
        "id": "LRsuVxMEcA13",
        "outputId": "fae577eb-fe83-484d-fcad-0dda2df13f8e"
      },
      "execution_count": 45,
      "outputs": [
        {
          "output_type": "stream",
          "name": "stdout",
          "text": [
            "O fatorial do valor é 720\n"
          ]
        }
      ]
    },
    {
      "cell_type": "markdown",
      "source": [
        "**USANDO FOR**"
      ],
      "metadata": {
        "id": "vM_KDJCQeWky"
      }
    },
    {
      "cell_type": "code",
      "source": [
        "valor_n = int(input(\"Digite um numero inteiro não negativo: \"))"
      ],
      "metadata": {
        "colab": {
          "base_uri": "https://localhost:8080/"
        },
        "id": "KzQ4f--aeYhy",
        "outputId": "813c3deb-7752-4ad7-9643-7655534097bb"
      },
      "execution_count": 46,
      "outputs": [
        {
          "name": "stdout",
          "output_type": "stream",
          "text": [
            "Digite um numero inteiro não negativo: 6\n"
          ]
        }
      ]
    },
    {
      "cell_type": "code",
      "source": [
        "n_fat = 1\n",
        "\n",
        "for i in range(1, valor_n + 1):\n",
        "  n_fat = n_fat * i\n",
        "print (f\"O valor do fatorial é {n_fat}\")\n"
      ],
      "metadata": {
        "colab": {
          "base_uri": "https://localhost:8080/"
        },
        "id": "fI-g-kSwero0",
        "outputId": "dbb633b5-aa1a-4ab6-cf93-22e57f4d8a73"
      },
      "execution_count": 49,
      "outputs": [
        {
          "output_type": "stream",
          "name": "stdout",
          "text": [
            "O valor do fatorial é 720\n"
          ]
        }
      ]
    },
    {
      "cell_type": "markdown",
      "source": [
        "##5) COMO FAZER UM PROGRAMA QUE DETERMINE O MOSTRE OS 5 PRIMEIROS MÚLTIPLOS DE 3, CONSIDERANDO NÚMEROS MAIORES QUE ZERO?"
      ],
      "metadata": {
        "id": "_QWO1yvwfcIE"
      }
    },
    {
      "cell_type": "markdown",
      "source": [
        "**Todos os números que são resultados da multiplicação por 3 são múltiplos do número inteiro 3**"
      ],
      "metadata": {
        "id": "C9omYXX1iXdE"
      }
    },
    {
      "cell_type": "code",
      "source": [
        "n_multiplo = int(input(\"Digite o numero que voce deseja saber os 5 primeiros multiplos: \"))"
      ],
      "metadata": {
        "colab": {
          "base_uri": "https://localhost:8080/"
        },
        "id": "1c2x1KEEflNh",
        "outputId": "55563ea6-2072-49f8-d761-6539474d0f3c"
      },
      "execution_count": 50,
      "outputs": [
        {
          "name": "stdout",
          "output_type": "stream",
          "text": [
            "Digite o numero que voce deseja saber os 5 primeiros multiplos: 3\n"
          ]
        }
      ]
    },
    {
      "cell_type": "code",
      "source": [
        "#1 porque não queremos que comece do zero\n",
        "#6 porque queremos os 5 primeiros\n",
        "for i in range(1, 6):\n",
        "  print (i * n_multiplo)"
      ],
      "metadata": {
        "colab": {
          "base_uri": "https://localhost:8080/"
        },
        "id": "DFxS-FDAiq49",
        "outputId": "64fc2ddf-95d8-4682-eed5-423012e55fcc"
      },
      "execution_count": 51,
      "outputs": [
        {
          "output_type": "stream",
          "name": "stdout",
          "text": [
            "3\n",
            "6\n",
            "9\n",
            "12\n",
            "15\n"
          ]
        }
      ]
    },
    {
      "cell_type": "markdown",
      "source": [
        "##6) COMO PEDIR AO USUÁRIO 10 VALORES E SOMÁ-LOS?"
      ],
      "metadata": {
        "id": "uZLjR784jRbt"
      }
    },
    {
      "cell_type": "code",
      "source": [
        "soma = 0\n",
        "\n",
        "for i in range(10):\n",
        "  valor_entrada = int(input(\"Digite 10 valores: \"))\n",
        "  soma = soma + valor_entrada\n",
        "print (f\"A soma é {soma}\")"
      ],
      "metadata": {
        "colab": {
          "base_uri": "https://localhost:8080/"
        },
        "id": "Rc9CNgZclY8y",
        "outputId": "a2f7bffd-621d-404f-be0e-3eb1b8f5386e"
      },
      "execution_count": 57,
      "outputs": [
        {
          "output_type": "stream",
          "name": "stdout",
          "text": [
            "Digite 10 valores: 1\n",
            "Digite 10 valores: 2\n",
            "Digite 10 valores: 3\n",
            "Digite 10 valores: 4\n",
            "Digite 10 valores: 5\n",
            "Digite 10 valores: 6\n",
            "Digite 10 valores: 7\n",
            "Digite 10 valores: 8\n",
            "Digite 10 valores: 9\n",
            "Digite 10 valores: 10\n",
            "A soma é 55\n"
          ]
        }
      ]
    },
    {
      "cell_type": "markdown",
      "source": [
        "##7) COMO FAZER UM PROGRAMA QUE LEIA 10 INTEIROS POSITIVOS, IGNORANDO NÃO POSITIVOS E IMPRIMINDO A MÉDIA?"
      ],
      "metadata": {
        "id": "OgSoosaPoOOK"
      }
    },
    {
      "cell_type": "code",
      "source": [
        "soma = 0\n",
        "contador = 0\n",
        "\n",
        "for i in range(10):\n",
        "  ler_numero_inteiro = int(input(\"Digite um numero inteiro: \"))\n",
        "  if (ler_numero_inteiro > 0):\n",
        "    soma = soma + ler_numero_inteiro\n",
        "    contador += 1\n",
        "media = soma/contador\n",
        "print (f\"A média é : {media}\")"
      ],
      "metadata": {
        "colab": {
          "base_uri": "https://localhost:8080/"
        },
        "id": "97TkY31MoYci",
        "outputId": "c41f51aa-914f-4e5a-875d-78e7efba4c05"
      },
      "execution_count": 61,
      "outputs": [
        {
          "output_type": "stream",
          "name": "stdout",
          "text": [
            "Digite um numero inteiro: 2\n",
            "Digite um numero inteiro: 2\n",
            "Digite um numero inteiro: 2\n",
            "Digite um numero inteiro: -5\n",
            "Digite um numero inteiro: -1\n",
            "Digite um numero inteiro: -5\n",
            "Digite um numero inteiro: -1\n",
            "Digite um numero inteiro: -9\n",
            "Digite um numero inteiro: -6\n",
            "Digite um numero inteiro: -8\n",
            "A média é : 2.0\n"
          ]
        }
      ]
    },
    {
      "cell_type": "markdown",
      "source": [
        "##8) COMO IMPRMIR A TABUADA DE UM DETERMINADO NÚMERO?"
      ],
      "metadata": {
        "id": "weEfMZ6HpeUQ"
      }
    },
    {
      "cell_type": "code",
      "source": [
        "numero_tabuada = int(input(\"Digite um numero natural: \"))"
      ],
      "metadata": {
        "colab": {
          "base_uri": "https://localhost:8080/"
        },
        "id": "1kYRmBu-qDvo",
        "outputId": "923e60db-991c-43bc-e209-cf85a73c0dbb"
      },
      "execution_count": 62,
      "outputs": [
        {
          "name": "stdout",
          "output_type": "stream",
          "text": [
            "Digite um numero natural: 10\n"
          ]
        }
      ]
    },
    {
      "cell_type": "code",
      "source": [
        "i = 0\n",
        "while (i <= 10):\n",
        "  print (f\"{numero_tabuada} * {i} = {numero_tabuada*i}\")\n",
        "  i = i + 1"
      ],
      "metadata": {
        "colab": {
          "base_uri": "https://localhost:8080/"
        },
        "id": "s4VfPPvMqT8f",
        "outputId": "290f73b4-82d2-4a71-e5ff-f3ee6fa1c913"
      },
      "execution_count": 63,
      "outputs": [
        {
          "output_type": "stream",
          "name": "stdout",
          "text": [
            "10 * 0 = 0\n",
            "10 * 1 = 10\n",
            "10 * 2 = 20\n",
            "10 * 3 = 30\n",
            "10 * 4 = 40\n",
            "10 * 5 = 50\n",
            "10 * 6 = 60\n",
            "10 * 7 = 70\n",
            "10 * 8 = 80\n",
            "10 * 9 = 90\n",
            "10 * 10 = 100\n"
          ]
        }
      ]
    },
    {
      "cell_type": "markdown",
      "source": [
        "##9) COMO EXIBIR NUMEROS DE -10 A -1 USANDO O LOOP FOR?"
      ],
      "metadata": {
        "id": "TZiAMGe9q2qK"
      }
    },
    {
      "cell_type": "code",
      "source": [
        "#se não colocar zero no range, vai até -2\n",
        "for i in range(-10, 0, 1):\n",
        "  print(i)"
      ],
      "metadata": {
        "colab": {
          "base_uri": "https://localhost:8080/"
        },
        "id": "Kv-KSve1rC63",
        "outputId": "c741e528-50de-4e8f-cd4c-9e16d9eb61ec"
      },
      "execution_count": 66,
      "outputs": [
        {
          "output_type": "stream",
          "name": "stdout",
          "text": [
            "-10\n",
            "-9\n",
            "-8\n",
            "-7\n",
            "-6\n",
            "-5\n",
            "-4\n",
            "-3\n",
            "-2\n",
            "-1\n"
          ]
        }
      ]
    },
    {
      "cell_type": "markdown",
      "source": [
        "##10) COMO LER UM NUMERO INTEIRO E MOSTRAR O CUBO ATÉ ESSE NUMERO?"
      ],
      "metadata": {
        "id": "hZ5EYZ7jrlOi"
      }
    },
    {
      "cell_type": "code",
      "source": [
        "ler_numero = int(input(\"Digite um numero inteiro: \"))"
      ],
      "metadata": {
        "colab": {
          "base_uri": "https://localhost:8080/"
        },
        "id": "VO6qM3bzrrOJ",
        "outputId": "2d1c8c56-acae-4348-e47f-faac19a39d57"
      },
      "execution_count": 67,
      "outputs": [
        {
          "name": "stdout",
          "output_type": "stream",
          "text": [
            "Digite um numero inteiro: 4\n"
          ]
        }
      ]
    },
    {
      "cell_type": "code",
      "source": [
        "i = 0\n",
        "while (i <= ler_numero):\n",
        "  print (i * i * i)\n",
        "  i = i + 1"
      ],
      "metadata": {
        "colab": {
          "base_uri": "https://localhost:8080/"
        },
        "id": "BI7wbz1Nr5Kk",
        "outputId": "afdd59cc-2ae7-486b-ae07-c8005503ae0e"
      },
      "execution_count": 69,
      "outputs": [
        {
          "output_type": "stream",
          "name": "stdout",
          "text": [
            "0\n",
            "1\n",
            "8\n",
            "27\n",
            "64\n"
          ]
        }
      ]
    },
    {
      "cell_type": "markdown",
      "source": [
        "##11) COMO LER UM NUMERO INTEIRO POSITIVO E IMPRIMIR TODOS OS NUMEROS NATURAIS DE ZERO A ATÉ O N EM ORDEM DECRESCENTE?"
      ],
      "metadata": {
        "id": "te65FjpgsnPq"
      }
    },
    {
      "cell_type": "code",
      "source": [
        "decrescente = int(input(\"Digite um numero natural: \"))"
      ],
      "metadata": {
        "colab": {
          "base_uri": "https://localhost:8080/"
        },
        "id": "E98yBA7Dsvxq",
        "outputId": "c7604165-f753-42b1-b7b3-2156b76e75dc"
      },
      "execution_count": 73,
      "outputs": [
        {
          "name": "stdout",
          "output_type": "stream",
          "text": [
            "Digite um numero natural: 5\n"
          ]
        }
      ]
    },
    {
      "cell_type": "code",
      "source": [
        "for i in range(decrescente, -1, -1):\n",
        "  print(i)"
      ],
      "metadata": {
        "colab": {
          "base_uri": "https://localhost:8080/"
        },
        "id": "6zgTd6r6s2Oc",
        "outputId": "ed28387a-60b4-49dd-a00f-fd3374c0fc42"
      },
      "execution_count": 74,
      "outputs": [
        {
          "output_type": "stream",
          "name": "stdout",
          "text": [
            "5\n",
            "4\n",
            "3\n",
            "2\n",
            "1\n",
            "0\n"
          ]
        }
      ]
    },
    {
      "cell_type": "markdown",
      "source": [
        "##12) COMO LER UM NUMERO E CONTAR O NUMERO TOTAL DE DÍGITOS? Ex.: 3 (1 digito), 10 (2 digitos), 233 (3 digitos)"
      ],
      "metadata": {
        "id": "HvJLKljPtMKo"
      }
    },
    {
      "cell_type": "code",
      "source": [
        "#4.4//2 retorna a parte inteira\n",
        "4.4//2"
      ],
      "metadata": {
        "colab": {
          "base_uri": "https://localhost:8080/"
        },
        "id": "mEvrVGPlti8i",
        "outputId": "420ca532-ba50-48da-b5db-6bd167a9c730"
      },
      "execution_count": 76,
      "outputs": [
        {
          "output_type": "execute_result",
          "data": {
            "text/plain": [
              "2.0"
            ]
          },
          "metadata": {},
          "execution_count": 76
        }
      ]
    },
    {
      "cell_type": "code",
      "source": [
        "valor_contagem = int(input(\"Digite um valor: \"))"
      ],
      "metadata": {
        "colab": {
          "base_uri": "https://localhost:8080/"
        },
        "id": "FBdM8Ziottnw",
        "outputId": "8e9388be-842d-4e30-da2d-0301f1225b00"
      },
      "execution_count": 88,
      "outputs": [
        {
          "name": "stdout",
          "output_type": "stream",
          "text": [
            "Digite um valor: 5423\n"
          ]
        }
      ]
    },
    {
      "cell_type": "code",
      "source": [
        "contador = 0\n",
        "\n",
        "while (valor_contagem > 0):\n",
        " valor_contagem = valor_contagem//10\n",
        " contador = contador + 1\n",
        " print(valor_contagem)\n",
        "print (f\"O numero de digitos é: {contador}\")"
      ],
      "metadata": {
        "colab": {
          "base_uri": "https://localhost:8080/"
        },
        "id": "Ss38Yu9at8l0",
        "outputId": "c25d9b6b-8b55-4d68-ffcc-8ae5bbbedcac"
      },
      "execution_count": 89,
      "outputs": [
        {
          "output_type": "stream",
          "name": "stdout",
          "text": [
            "542\n",
            "54\n",
            "5\n",
            "0\n",
            "O numero de digitos é: 4\n"
          ]
        }
      ]
    }
  ]
}